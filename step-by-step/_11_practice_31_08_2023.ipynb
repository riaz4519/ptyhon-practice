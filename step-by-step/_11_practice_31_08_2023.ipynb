{
 "cells": [
  {
   "cell_type": "code",
   "execution_count": 1,
   "metadata": {},
   "outputs": [
    {
     "name": "stdout",
     "output_type": "stream",
     "text": [
      "Name: Fahim\n",
      "Age: 30\n"
     ]
    }
   ],
   "source": [
    "# print\n",
    "name  = \"Fahim\";\n",
    "age = 30\n",
    "\n",
    "print(\"Name:\",name)\n",
    "print(\"Age:\",age)\n"
   ]
  },
  {
   "cell_type": "code",
   "execution_count": 3,
   "metadata": {},
   "outputs": [
    {
     "name": "stdout",
     "output_type": "stream",
     "text": [
      "Hello my  name is Alice and i am  25 years old\n"
     ]
    }
   ],
   "source": [
    "name = \"Alice\"\n",
    "age = 25\n",
    "\n",
    "print(\"Hello my  name is\",name,\"and i am \",age,\"years old\")"
   ]
  },
  {
   "cell_type": "code",
   "execution_count": 4,
   "metadata": {},
   "outputs": [
    {
     "name": "stdout",
     "output_type": "stream",
     "text": [
      "Geeks for geeks \n",
      " is the best for DSA Content\n"
     ]
    }
   ],
   "source": [
    "# python new line string literals\n",
    "print(\"Geeks for geeks \\n is the best for DSA Content\")"
   ]
  },
  {
   "cell_type": "code",
   "execution_count": 6,
   "metadata": {},
   "outputs": [
    {
     "name": "stdout",
     "output_type": "stream",
     "text": [
      "This line have a new line autometically\n",
      "This line will not have new line Now that previous line does not have new line i will start from where the prevous line ended\n"
     ]
    }
   ],
   "source": [
    "# end parameter in python\n",
    "print(\"This line have a new line autometically\")\n",
    "print(\"This line will not have new line \",end=\"\")\n",
    "print(\"Now that previous line does not have new line i will start from where the prevous line ended\")"
   ]
  },
  {
   "cell_type": "code",
   "execution_count": 12,
   "metadata": {},
   "outputs": [
    {
     "name": "stdout",
     "output_type": "stream",
     "text": [
      "3>>>2>>>1>>>start\n"
     ]
    }
   ],
   "source": [
    "# when flush is set to default\n",
    "import time\n",
    "count_seconds = 3\n",
    "for i in reversed(range(count_seconds+1)):\n",
    "    if i > 0 :\n",
    "        print(i,end=\">>>\")\n",
    "        time.sleep(1)\n",
    "    else:\n",
    "        print(\"start\")"
   ]
  },
  {
   "cell_type": "code",
   "execution_count": 10,
   "metadata": {},
   "outputs": [
    {
     "name": "stdout",
     "output_type": "stream",
     "text": [
      "3>>>2>>>1>>>start\n"
     ]
    }
   ],
   "source": [
    "# when flush is set to true\n",
    "import time\n",
    "count_seconds = 3\n",
    "for i in reversed(range(count_seconds+1)):\n",
    "    if i > 0 :\n",
    "        print(i,end=\">>>\",flush = True)\n",
    "        time.sleep(1)\n",
    "    else:\n",
    "        print(\"start\")"
   ]
  },
  {
   "cell_type": "code",
   "execution_count": 13,
   "metadata": {},
   "outputs": [
    {
     "name": "stdout",
     "output_type": "stream",
     "text": [
      "12-12-2022\n"
     ]
    }
   ],
   "source": [
    "# sep argument in print\n",
    "\n",
    "a,b,c = 12,12,2022\n",
    "print(a,b,c,sep=\"-\")"
   ]
  },
  {
   "cell_type": "code",
   "execution_count": 17,
   "metadata": {},
   "outputs": [
    {
     "name": "stdout",
     "output_type": "stream",
     "text": [
      "Hello people!\n",
      "\n"
     ]
    }
   ],
   "source": [
    "# file\n",
    "import io\n",
    "# create a dummy file\n",
    "dummy_file = io.StringIO()\n",
    "\n",
    "# add message to dummy file\n",
    "print(\"Hello people!\",file=dummy_file)\n",
    "#get\n",
    "print(dummy_file.getvalue())\n"
   ]
  },
  {
   "cell_type": "code",
   "execution_count": 18,
   "metadata": {},
   "outputs": [],
   "source": [
    "# weite to a file \n",
    "print(\"welcome to geeksforgeeks python world\",file=open(\"file.txt\",\"w\"))"
   ]
  },
  {
   "cell_type": "code",
   "execution_count": 19,
   "metadata": {},
   "outputs": [
    {
     "name": "stdout",
     "output_type": "stream",
     "text": [
      "Hello world!.why people use this line always !!!\n"
     ]
    }
   ],
   "source": [
    "# printing without newline\n",
    "print(\"Hello world!\",end=\".\")\n",
    "print(\"why people use this line always !!!\")"
   ]
  },
  {
   "cell_type": "code",
   "execution_count": 20,
   "metadata": {},
   "outputs": [
    {
     "name": "stdout",
     "output_type": "stream",
     "text": [
      "0 1 2 3 4 5 6 7 8 9 "
     ]
    }
   ],
   "source": [
    "# number range priting serially without new line\n",
    "for i in range(10):\n",
    "    print(i,end=\" \")"
   ]
  },
  {
   "cell_type": "code",
   "execution_count": 21,
   "metadata": {},
   "outputs": [
    {
     "name": "stdout",
     "output_type": "stream",
     "text": [
      "1 2 3 4 5 6 7 8 9\n"
     ]
    }
   ],
   "source": [
    "# print without new line ,without using for loop\n",
    "l = [1,2,3,4,5,6,7,8,9]\n",
    "print(*l)"
   ]
  },
  {
   "cell_type": "code",
   "execution_count": 24,
   "metadata": {},
   "outputs": [
    {
     "name": "stdout",
     "output_type": "stream",
     "text": [
      "Custom method to print without new  line using system functionwriting these to prof that there is not new line"
     ]
    },
    {
     "data": {
      "text/plain": [
       "48"
      ]
     },
     "execution_count": 24,
     "metadata": {},
     "output_type": "execute_result"
    }
   ],
   "source": [
    "#print without new line using system function\n",
    "import sys\n",
    "sys.stdout.write(\"Custom method to print without new  line using system function\")\n",
    "sys.stdout.write(\"writing these to prof that there is not new line\")"
   ]
  },
  {
   "cell_type": "code",
   "execution_count": 37,
   "metadata": {},
   "outputs": [
    {
     "name": "stdout",
     "output_type": "stream",
     "text": [
      "Geeks :  1,Portal : 5.333 h\n",
      "Total students : 240,Boys : 120\n",
      "031\n",
      " 3.561E+02\n"
     ]
    }
   ],
   "source": [
    "#module operator string formatting\n",
    "print(\"Geeks : %2d,Portal : %5.3f h\" %(1,05.3333))\n",
    "\n",
    "print(\"Total students : %3d,Boys : %2d\" %(240,120))\n",
    "\n",
    "print(\"%3.3o\" %(25))\n",
    "\n",
    "print(\"%10.3E\" % (356.08977))"
   ]
  },
  {
   "cell_type": "code",
   "execution_count": 39,
   "metadata": {},
   "outputs": [
    {
     "name": "stdout",
     "output_type": "stream",
     "text": [
      "I love Geeks for Geeks!\n",
      "I love Geeks for Portal!\n"
     ]
    }
   ],
   "source": [
    "#formatting using format method\n",
    "print(\"I love {} for {}!\".format(\"Geeks\",\"Geeks\"))\n",
    "#positional formatting\n",
    "print(\"I love {1} for {0}!\".format(\"Portal\",\"Geeks\"))\n"
   ]
  },
  {
   "cell_type": "code",
   "execution_count": 41,
   "metadata": {},
   "outputs": [
    {
     "name": "stdout",
     "output_type": "stream",
     "text": [
      "Number of portal is Geeks,for,Geeks\n",
      "10 ,     0.55\n"
     ]
    }
   ],
   "source": [
    "# combining positional and keyword arguments\n",
    "print(\"Number of portal is {0},{1},{other}\".format(\"Geeks\",\"for\",other=\"Geeks\"))\n",
    "\n",
    "#using format method with numbers\n",
    "print(\"{0:2d} , {1:8.2f}\".format(10,00.546))"
   ]
  },
  {
   "cell_type": "code",
   "execution_count": 42,
   "metadata": {},
   "outputs": [
    {
     "name": "stdout",
     "output_type": "stream",
     "text": [
      "Geeks : 4127 for : 4098 8637678\n"
     ]
    }
   ],
   "source": [
    "# format using dictionary\n",
    "tab = {'geeks': 4127, 'for': 4098, 'geek': 8637678}\n",
    "print(\"Geeks : {0[geeks]:d} for : {0[for]:d} Geek:  {0[geek]:d}\".format(tab))"
   ]
  },
  {
   "cell_type": "code",
   "execution_count": 44,
   "metadata": {},
   "outputs": [
    {
     "name": "stdout",
     "output_type": "stream",
     "text": [
      "my name is : GeeksForGeeks and age is : Portal\n"
     ]
    }
   ],
   "source": [
    "# dictionary as names parameter\n",
    "data = dict(name =\"GeeksForGeeks\", age =\"Portal\")\n",
    "print(\"my name is : {name} and age is : {age}\".format(**data))"
   ]
  },
  {
   "cell_type": "code",
   "execution_count": 47,
   "metadata": {},
   "outputs": [
    {
     "name": "stdout",
     "output_type": "stream",
     "text": [
      "*************Fahim Md. Riaz*************\n",
      "Fahim Md. Riaz**************************\n",
      "**************************Fahim Md. Riaz\n"
     ]
    }
   ],
   "source": [
    "# formating string methods\n",
    "#put my name in the middle and star around it \n",
    "name = \"Fahim Md. Riaz\"\n",
    "print(name.center(40,\"*\"))\n",
    "\n",
    "print(name.ljust(40,\"*\"))\n",
    "print(name.rjust(40,\"*\"))"
   ]
  }
 ],
 "metadata": {
  "kernelspec": {
   "display_name": "Python 3",
   "language": "python",
   "name": "python3"
  },
  "language_info": {
   "codemirror_mode": {
    "name": "ipython",
    "version": 3
   },
   "file_extension": ".py",
   "mimetype": "text/x-python",
   "name": "python",
   "nbconvert_exporter": "python",
   "pygments_lexer": "ipython3",
   "version": "3.11.4"
  },
  "orig_nbformat": 4
 },
 "nbformat": 4,
 "nbformat_minor": 2
}
