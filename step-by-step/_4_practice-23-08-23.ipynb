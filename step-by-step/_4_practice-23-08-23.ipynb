{
 "cells": [
  {
   "cell_type": "code",
   "execution_count": 1,
   "metadata": {},
   "outputs": [
    {
     "name": "stdout",
     "output_type": "stream",
     "text": [
      "Hello  Fahim\n"
     ]
    }
   ],
   "source": [
    "#input name\n",
    "name = input(\"Enter your name: \")\n",
    "print(\"Hello \", name)"
   ]
  },
  {
   "cell_type": "code",
   "execution_count": 2,
   "metadata": {},
   "outputs": [
    {
     "name": "stdout",
     "output_type": "stream",
     "text": [
      "Product is :  30\n"
     ]
    }
   ],
   "source": [
    "#enter two number and multiply them\n",
    "num1 = int(input(\"Enter numb1: \"))\n",
    "num2 = int(input(\"Enter numb2: \"))\n",
    "num3 = num1 * num2\n",
    "print(\"Product is : \",num3)\n"
   ]
  },
  {
   "cell_type": "code",
   "execution_count": 4,
   "metadata": {},
   "outputs": [
    {
     "name": "stdout",
     "output_type": "stream",
     "text": [
      "you are teenager\n"
     ]
    }
   ],
   "source": [
    "#condition \n",
    "age = 17\n",
    "if(age >= 18):\n",
    "    print(\"you are adult\")\n",
    "elif(age >= 13 and age <= 17):\n",
    "    print(\"you are teenager\")\n",
    "else:\n",
    "    print(\"you are a child\")"
   ]
  },
  {
   "cell_type": "code",
   "execution_count": 5,
   "metadata": {},
   "outputs": [
    {
     "name": "stdout",
     "output_type": "stream",
     "text": [
      "hello\n",
      "Hello again\n",
      "hello\n",
      "Hello again\n"
     ]
    }
   ],
   "source": [
    "#function\n",
    "def hello() :\n",
    "    print(\"hello\")\n",
    "    print(\"Hello again\")\n",
    "    \n",
    "hello()\n",
    "hello()"
   ]
  },
  {
   "cell_type": "code",
   "execution_count": 7,
   "metadata": {},
   "outputs": [
    {
     "name": "stdout",
     "output_type": "stream",
     "text": [
      "Started\n",
      "20\n"
     ]
    }
   ],
   "source": [
    "def getInterger():\n",
    "    result = int(input(\"Enter interger\"))\n",
    "    return result\n",
    "\n",
    "\n",
    "def Main():\n",
    "    print(\"Started\")\n",
    "    \n",
    "    output = getInterger()\n",
    "    print(output)\n",
    "\n",
    "if __name__ == \"__main__\":\n",
    "    Main()"
   ]
  },
  {
   "cell_type": "code",
   "execution_count": 8,
   "metadata": {},
   "outputs": [
    {
     "name": "stdout",
     "output_type": "stream",
     "text": [
      "85.0\n"
     ]
    }
   ],
   "source": [
    "#import math\n",
    "#action in main function\n",
    "import math\n",
    "def Main():\n",
    "    num = -85\n",
    "    \n",
    "    num = math.fabs(num)\n",
    "    print(num)\n",
    "\n",
    "if __name__ == \"__main__\":\n",
    "    Main()    \n"
   ]
  }
 ],
 "metadata": {
  "kernelspec": {
   "display_name": "Python 3",
   "language": "python",
   "name": "python3"
  },
  "language_info": {
   "codemirror_mode": {
    "name": "ipython",
    "version": 3
   },
   "file_extension": ".py",
   "mimetype": "text/x-python",
   "name": "python",
   "nbconvert_exporter": "python",
   "pygments_lexer": "ipython3",
   "version": "3.10.7"
  },
  "orig_nbformat": 4
 },
 "nbformat": 4,
 "nbformat_minor": 2
}
