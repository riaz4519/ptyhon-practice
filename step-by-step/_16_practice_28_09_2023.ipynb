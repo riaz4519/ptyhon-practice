{
 "cells": [
  {
   "cell_type": "code",
   "execution_count": 1,
   "metadata": {},
   "outputs": [
    {
     "name": "stdout",
     "output_type": "stream",
     "text": [
      "['Fahm', 'Md', 'Riaz']\n"
     ]
    }
   ],
   "source": [
    "#list\n",
    "list1 = [\"Fahm\",\"Md\",\"Riaz\"]\n",
    "print(list1)"
   ]
  },
  {
   "cell_type": "code",
   "execution_count": 3,
   "metadata": {},
   "outputs": [
    {
     "name": "stdout",
     "output_type": "stream",
     "text": [
      "[]\n",
      "[10, 20, 30, 40, 50]\n",
      "['Fahim', 'Md.', 'Riaz']\n"
     ]
    }
   ],
   "source": [
    "#creating a list\n",
    "list1 = []\n",
    "print(list1)\n",
    "#creating a list with integers\n",
    "list1 = [10,20,30,40,50]\n",
    "print(list1)\n",
    "\n",
    "#creating string list and accessing it\n",
    "list1 = [\"Fahim\",\"Md.\",\"Riaz\"]\n",
    "print(list1)\n"
   ]
  },
  {
   "cell_type": "code",
   "execution_count": 2,
   "metadata": {},
   "outputs": [
    {
     "name": "stdout",
     "output_type": "stream",
     "text": [
      "riaz\n",
      "fahim\n"
     ]
    }
   ],
   "source": [
    "#creating multi dimensional list\n",
    "list1 = [[\"fahim\",\"md\"],[\"riaz\"]]\n",
    "\n",
    "print(list1[1][0])\n",
    "print(list1[0][0])\n"
   ]
  },
  {
   "cell_type": "code",
   "execution_count": 4,
   "metadata": {},
   "outputs": [
    {
     "name": "stdout",
     "output_type": "stream",
     "text": [
      "3\n",
      "2\n"
     ]
    }
   ],
   "source": [
    "#negative indexing \n",
    "list1 = [1,\"Fahim\",'Md.',2,\"Riaz\",3]\n",
    "print(list1[-1])\n",
    "print(list1[-3])"
   ]
  },
  {
   "cell_type": "code",
   "execution_count": 6,
   "metadata": {},
   "outputs": [
    {
     "name": "stdout",
     "output_type": "stream",
     "text": [
      "0\n",
      "6\n"
     ]
    }
   ],
   "source": [
    "#geting size of the python list\n",
    "list1 = []\n",
    "print(len(list1))\n",
    "\n",
    "#creating a list of numbers\n",
    "list2 = [1,2,3,4,5,6]\n",
    "print(len(list2))\n"
   ]
  },
  {
   "cell_type": "code",
   "execution_count": 7,
   "metadata": {},
   "outputs": [
    {
     "name": "stdout",
     "output_type": "stream",
     "text": [
      "['fahim', 'md', 'riaz']\n"
     ]
    }
   ],
   "source": [
    "#taking input a python list\n",
    "string = input(\"Enter elemets (space separated) : \")\n",
    "lst = string.split()\n",
    "print(lst)"
   ]
  },
  {
   "cell_type": "code",
   "execution_count": 1,
   "metadata": {},
   "outputs": [
    {
     "name": "stdout",
     "output_type": "stream",
     "text": [
      "[1, 2, 3, 4, 5]\n"
     ]
    }
   ],
   "source": [
    "n = int(input(\"Enter the size of list : \"))\n",
    "lst = list(map(int,input(\"Enter integer elements\").strip().split()))[:n]\n",
    "print(lst)"
   ]
  },
  {
   "cell_type": "code",
   "execution_count": 5,
   "metadata": {},
   "outputs": [
    {
     "name": "stdout",
     "output_type": "stream",
     "text": [
      "[1, 2, 3]\n",
      "[1, 2, 3, 1, 2, 3]\n",
      "[1, 2, 3, 1, 2, 3, (1, 2)]\n",
      "[1, 2, 3, 1, 2, 3, (1, 2), [1, 2]]\n"
     ]
    }
   ],
   "source": [
    "# add elements to the list\n",
    "list1 = []\n",
    "\n",
    "list1.append(1)\n",
    "list1.append(2)\n",
    "list1.append(3)\n",
    "\n",
    "print(list1)\n",
    "\n",
    "# adding items to the list using iterator\n",
    "for i in range(1,4):\n",
    "    list1.append(i)\n",
    "    \n",
    "print(list1)\n",
    "\n",
    "# adding tuples to the list\n",
    "list1.append((1,2))\n",
    "\n",
    "print(list1)\n",
    "\n",
    "# adding list elements to the list\n",
    "list2 = [1,2]\n",
    "list1.append(list2)\n",
    "print(list1)"
   ]
  },
  {
   "cell_type": "code",
   "execution_count": 8,
   "metadata": {},
   "outputs": [
    {
     "name": "stdout",
     "output_type": "stream",
     "text": [
      "initial \n",
      "[1, 2, 3, 4, 5, 6, 7, 8, 9]\n",
      "[1, 2, 3, 12, 4, 5, 6, 7, 8, 9]\n"
     ]
    }
   ],
   "source": [
    "# inserting \n",
    "list1 = [1,2,3,4,5,6,7,8,9]\n",
    "print(\"initial \")\n",
    "print(list1)\n",
    "\n",
    "\n",
    "#insert \n",
    "list1.insert(3,12)\n",
    "print(list1)\n",
    "\n",
    "\n"
   ]
  },
  {
   "cell_type": "code",
   "execution_count": 9,
   "metadata": {},
   "outputs": [
    {
     "name": "stdout",
     "output_type": "stream",
     "text": [
      "[1, 2, 4, 5]\n"
     ]
    }
   ],
   "source": [
    "list1 = [1,2]\n",
    "# extend\n",
    "list1.extend([4,5])\n",
    "print(list1)\n",
    "\n",
    "\n",
    "\n"
   ]
  },
  {
   "cell_type": "code",
   "execution_count": 10,
   "metadata": {},
   "outputs": [
    {
     "name": "stdout",
     "output_type": "stream",
     "text": [
      "[1, 2, 3, 4, 5, 6, 7, 8]\n",
      "[8, 7, 6, 5, 4, 3, 2, 1]\n"
     ]
    }
   ],
   "source": [
    "#reversing a list\n",
    "list1 = [1,2,3,4,5,6,7,8]\n",
    "print(list1)\n",
    "list1.reverse()\n",
    "print(list1)"
   ]
  },
  {
   "cell_type": "code",
   "execution_count": 11,
   "metadata": {},
   "outputs": [
    {
     "name": "stdout",
     "output_type": "stream",
     "text": [
      "[9, 8, 7, 6, 5, 4, 3, 2, 1]\n"
     ]
    }
   ],
   "source": [
    "#using reversed function\n",
    "list1 = [1,2,3,4,5,6,7,8,9]\n",
    "reversedList = list(reversed(list1))\n",
    "print(reversedList)"
   ]
  },
  {
   "cell_type": "code",
   "execution_count": 13,
   "metadata": {},
   "outputs": [
    {
     "name": "stdout",
     "output_type": "stream",
     "text": [
      "[1, 3, 4, 5, 6, 7, 8, 9]\n"
     ]
    }
   ],
   "source": [
    "#remove from the list\n",
    "list1 = [1,2,3,4,5,6,7,8,9]\n",
    "\n",
    "list1.remove(2)\n",
    "print(list1)\n"
   ]
  },
  {
   "cell_type": "code",
   "execution_count": 14,
   "metadata": {},
   "outputs": [
    {
     "name": "stdout",
     "output_type": "stream",
     "text": [
      "[1, 2, 3, 4, 5, 6, 7]\n",
      "[1, 2, 3, 4, 5, 6]\n"
     ]
    }
   ],
   "source": [
    "# removing using pop\n",
    "list1 = [1,2,3,4,5,6,7]\n",
    "print(list1)\n",
    "list1.pop()\n",
    "print(list1)"
   ]
  },
  {
   "cell_type": "code",
   "execution_count": 17,
   "metadata": {},
   "outputs": [
    {
     "name": "stdout",
     "output_type": "stream",
     "text": [
      "[1, 2, 3, 4, 5, 6, 7, 8, 9]\n",
      "[4, 5, 6]\n",
      "[6, 7, 8, 9]\n",
      "[1, 2, 3, 4, 5, 6, 7, 8, 9]\n"
     ]
    }
   ],
   "source": [
    "#slicing of a list\n",
    "list1 = [1,2,3,4,5,6,7,8,9]\n",
    "print(list1)\n",
    "\n",
    "#range slicing \n",
    "slicedList = list1[3:6]\n",
    "print(slicedList)\n",
    "#pre-defined point to end\n",
    "slicedList = list1[5:]\n",
    "print(slicedList)\n",
    "\n",
    "#begining to end\n",
    "slicedList = list1[:]\n",
    "print(slicedList)\n"
   ]
  },
  {
   "cell_type": "code",
   "execution_count": 20,
   "metadata": {},
   "outputs": [
    {
     "name": "stdout",
     "output_type": "stream",
     "text": [
      "[1, 2, 3]\n",
      "[4, 5, 6, 7, 8]\n",
      "[9, 8, 7, 6, 5, 4, 3, 2, 1]\n"
     ]
    }
   ],
   "source": [
    "#negative indexing\n",
    "list1 = [1,2,3,4,5,6,7,8,9]\n",
    "\n",
    "#to predefined point\n",
    "slicedList = list1[:-6]\n",
    "print(slicedList)\n",
    "\n",
    "# negative index slicing\n",
    "slicedList = list1[-6:-1]\n",
    "print(slicedList)\n",
    "# reverse\n",
    "slicedList = list1[::-1]\n",
    "print(slicedList)"
   ]
  },
  {
   "cell_type": "code",
   "execution_count": 22,
   "metadata": {},
   "outputs": [
    {
     "name": "stdout",
     "output_type": "stream",
     "text": [
      "[1, 9, 25, 49, 81]\n"
     ]
    }
   ],
   "source": [
    "#list comprehensions\n",
    "list1 = [x**2 for x in range(1,11) if x % 2 == 1 ]\n",
    "print(list1)"
   ]
  }
 ],
 "metadata": {
  "kernelspec": {
   "display_name": "Python 3",
   "language": "python",
   "name": "python3"
  },
  "language_info": {
   "codemirror_mode": {
    "name": "ipython",
    "version": 3
   },
   "file_extension": ".py",
   "mimetype": "text/x-python",
   "name": "python",
   "nbconvert_exporter": "python",
   "pygments_lexer": "ipython3",
   "version": "3.10.7"
  },
  "orig_nbformat": 4
 },
 "nbformat": 4,
 "nbformat_minor": 2
}
