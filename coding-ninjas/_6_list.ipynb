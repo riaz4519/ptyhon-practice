{
 "cells": [
  {
   "cell_type": "code",
   "execution_count": 1,
   "metadata": {},
   "outputs": [
    {
     "name": "stdout",
     "output_type": "stream",
     "text": [
      "[]\n"
     ]
    }
   ],
   "source": [
    "List = []\n",
    "print(List)"
   ]
  },
  {
   "cell_type": "code",
   "execution_count": 2,
   "metadata": {},
   "outputs": [
    {
     "name": "stdout",
     "output_type": "stream",
     "text": [
      "[1, 2, 3, 4, 5, 6, 7, 8, 9]\n"
     ]
    }
   ],
   "source": [
    "List = [1,2,3,4,5,6,7,8,9]\n",
    "print(List)"
   ]
  },
  {
   "cell_type": "code",
   "execution_count": 3,
   "metadata": {},
   "outputs": [
    {
     "name": "stdout",
     "output_type": "stream",
     "text": [
      "[1, 2, 'hey', 3]\n"
     ]
    }
   ],
   "source": [
    "List = [1,2,\"hey\",3]\n",
    "print(List)"
   ]
  },
  {
   "cell_type": "code",
   "execution_count": 7,
   "metadata": {},
   "outputs": [
    {
     "name": "stdout",
     "output_type": "stream",
     "text": [
      "['you', 'can', 'do']\n"
     ]
    }
   ],
   "source": [
    "List = [\"you\",\"can\",\"do\"]\n",
    "print(List)"
   ]
  },
  {
   "cell_type": "code",
   "execution_count": 6,
   "metadata": {},
   "outputs": [
    {
     "name": "stdout",
     "output_type": "stream",
     "text": [
      "[['hello', 'world'], [1, 2, 3]]\n"
     ]
    }
   ],
   "source": [
    "List = [[\"hello\",\"world\"],[1,2,3]]\n",
    "print(List)"
   ]
  },
  {
   "cell_type": "code",
   "execution_count": 8,
   "metadata": {},
   "outputs": [
    {
     "name": "stdout",
     "output_type": "stream",
     "text": [
      "0\n"
     ]
    }
   ],
   "source": [
    "List1 = []\n",
    "print(len(List1))"
   ]
  },
  {
   "cell_type": "code",
   "execution_count": 9,
   "metadata": {},
   "outputs": [
    {
     "name": "stdout",
     "output_type": "stream",
     "text": [
      "9\n"
     ]
    }
   ],
   "source": [
    "List2 = [1,2,3,4,5,6,7,8,9]\n",
    "print(len(List2))"
   ]
  },
  {
   "cell_type": "code",
   "execution_count": 11,
   "metadata": {},
   "outputs": [
    {
     "name": "stdout",
     "output_type": "stream",
     "text": [
      "['1', '2', '3', '4', '5', '6', '4']\n"
     ]
    }
   ],
   "source": [
    "#taking input of a list\n",
    "string = input(\"Enter a elements (space separated)\")\n",
    "lst = string.split()\n",
    "print(lst)"
   ]
  },
  {
   "cell_type": "code",
   "execution_count": 14,
   "metadata": {},
   "outputs": [
    {
     "name": "stdout",
     "output_type": "stream",
     "text": [
      "[1, 2, 3, 4, 5, 6]\n"
     ]
    }
   ],
   "source": [
    "#taking precise inputs convertedt to integers\n",
    "lst = list(map(int,input(\"Enter elements separted by space\").strip().split()))\n",
    "print(lst)"
   ]
  },
  {
   "cell_type": "code",
   "execution_count": 16,
   "metadata": {},
   "outputs": [
    {
     "name": "stdout",
     "output_type": "stream",
     "text": [
      "Initial blank list\n",
      "[]\n",
      "Printing the added elements\n",
      "[1, 2, 3]\n"
     ]
    }
   ],
   "source": [
    "#append value to the list\n",
    "List = []\n",
    "print(\"Initial blank list\")\n",
    "print(List)\n",
    "\n",
    "#adding elements to the list \n",
    "List.append(1)\n",
    "List.append(2)\n",
    "List.append(3)\n",
    "\n",
    "print(\"Printing the added elements\")\n",
    "print(List)"
   ]
  },
  {
   "cell_type": "code",
   "execution_count": 17,
   "metadata": {},
   "outputs": [
    {
     "name": "stdout",
     "output_type": "stream",
     "text": [
      "[1, 2, 3, 1, 2, 3, 4]\n"
     ]
    }
   ],
   "source": [
    "#making list with loop\n",
    "for i in range(1,5):\n",
    "    List.append(i)\n",
    "print(List)"
   ]
  },
  {
   "cell_type": "code",
   "execution_count": 18,
   "metadata": {},
   "outputs": [
    {
     "name": "stdout",
     "output_type": "stream",
     "text": [
      "[1, 2, 3, 1, 2, 3, 4, (5, 6)]\n"
     ]
    }
   ],
   "source": [
    "#adding tuple to the list\n",
    "List.append((5,6))\n",
    "print(List)"
   ]
  },
  {
   "cell_type": "code",
   "execution_count": 19,
   "metadata": {},
   "outputs": [
    {
     "name": "stdout",
     "output_type": "stream",
     "text": [
      "[1, 2, 3, 1, 2, 3, 4, (5, 6), ['list', 'append']]\n"
     ]
    }
   ],
   "source": [
    "#apend list to the list\n",
    "List.append([\"list\",\"append\"])\n",
    "print(List)"
   ]
  },
  {
   "cell_type": "code",
   "execution_count": 20,
   "metadata": {},
   "outputs": [
    {
     "name": "stdout",
     "output_type": "stream",
     "text": [
      "['what is it', 1, 2, 3, 1, 2, 3, 4, (5, 6), ['list', 'append']]\n"
     ]
    }
   ],
   "source": [
    "#adding value to specific index\n",
    "List.insert(0,\"what is it\")\n",
    "print(List)\n"
   ]
  },
  {
   "cell_type": "code",
   "execution_count": 21,
   "metadata": {},
   "outputs": [
    {
     "name": "stdout",
     "output_type": "stream",
     "text": [
      "['what is it', 1, 2, 3, 1, 2, 3, 4, (5, 6), ['list', 'append'], 'extending', 'a', 'list']\n"
     ]
    }
   ],
   "source": [
    "#adding multiple value with extend\n",
    "List.extend([\"extending\",\"a\",\"list\"])\n",
    "print(List)"
   ]
  },
  {
   "cell_type": "code",
   "execution_count": 22,
   "metadata": {},
   "outputs": [
    {
     "name": "stdout",
     "output_type": "stream",
     "text": [
      "['list', 'a', 'extending', ['list', 'append'], (5, 6), 4, 3, 2, 1, 3, 2, 1, 'what is it']\n"
     ]
    }
   ],
   "source": [
    "#reversing list\n",
    "List.reverse()\n",
    "print(List)"
   ]
  },
  {
   "cell_type": "code",
   "execution_count": 25,
   "metadata": {},
   "outputs": [
    {
     "name": "stdout",
     "output_type": "stream",
     "text": [
      "['extending', ['list', 'append'], (5, 6), 4, 3, 2, 1, 3, 2, 1, 'what is it']\n"
     ]
    }
   ],
   "source": [
    "#removing list items\n",
    "List.remove('a')\n",
    "print(List)\n",
    " "
   ]
  },
  {
   "cell_type": "code",
   "execution_count": 27,
   "metadata": {},
   "outputs": [
    {
     "name": "stdout",
     "output_type": "stream",
     "text": [
      "['extending', ['list', 'append'], (5, 6), 4, 3, 2, 1, 3, 2]\n"
     ]
    }
   ],
   "source": [
    "#remove from list using pop method\n",
    "List.pop()\n",
    "print(List)"
   ]
  },
  {
   "cell_type": "code",
   "execution_count": 28,
   "metadata": {},
   "outputs": [
    {
     "name": "stdout",
     "output_type": "stream",
     "text": [
      "['extending', ['list', 'append'], 4, 3, 2, 1, 3, 2]\n"
     ]
    }
   ],
   "source": [
    "#remove using index\n",
    "List.pop(2)\n",
    "print(List)"
   ]
  },
  {
   "cell_type": "code",
   "execution_count": 29,
   "metadata": {},
   "outputs": [
    {
     "name": "stdout",
     "output_type": "stream",
     "text": [
      "initial list: \n",
      "['G', 'E', 'E', 'K', 'S', 'F', 'O', 'R', 'G', 'E', 'E', 'K', 'S']\n"
     ]
    }
   ],
   "source": [
    "List = ['G', 'E', 'E', 'K', 'S', 'F',\n",
    "'O', 'R', 'G', 'E', 'E', 'K', 'S']\n",
    "print(\"initial list: \")\n",
    "print(List)"
   ]
  },
  {
   "cell_type": "code",
   "execution_count": 30,
   "metadata": {},
   "outputs": [
    {
     "name": "stdout",
     "output_type": "stream",
     "text": [
      "G\n"
     ]
    }
   ],
   "source": [
    "#accessing first item of the list\n",
    "print(List[0])"
   ]
  },
  {
   "cell_type": "code",
   "execution_count": 31,
   "metadata": {},
   "outputs": [
    {
     "name": "stdout",
     "output_type": "stream",
     "text": [
      "E\n"
     ]
    }
   ],
   "source": [
    "#accessing the fourth element from the end\n",
    "print(List[-4])"
   ]
  },
  {
   "cell_type": "code",
   "execution_count": 33,
   "metadata": {},
   "outputs": [
    {
     "name": "stdout",
     "output_type": "stream",
     "text": [
      "['K', 'S', 'F', 'O', 'R', 'G', 'E', 'E', 'K', 'S']\n"
     ]
    }
   ],
   "source": [
    "#start to last\n",
    "print(List[3:])"
   ]
  },
  {
   "cell_type": "code",
   "execution_count": 34,
   "metadata": {},
   "outputs": [
    {
     "data": {
      "text/plain": [
       "['E', 'K', 'S', 'F', 'O', 'R', 'G', 'E']"
      ]
     },
     "execution_count": 34,
     "metadata": {},
     "output_type": "execute_result"
    }
   ],
   "source": [
    "#one point till another\n",
    "List[2:10]"
   ]
  },
  {
   "cell_type": "code",
   "execution_count": 35,
   "metadata": {},
   "outputs": [
    {
     "name": "stdout",
     "output_type": "stream",
     "text": [
      "['S', 'K', 'E', 'E', 'G', 'R', 'O', 'F', 'S', 'K', 'E', 'E', 'G']\n"
     ]
    }
   ],
   "source": [
    "#reverse a string\n",
    "print(List[::-1])"
   ]
  },
  {
   "cell_type": "code",
   "execution_count": 37,
   "metadata": {},
   "outputs": [
    {
     "name": "stdout",
     "output_type": "stream",
     "text": [
      "[1, 9, 25, 49, 81]\n"
     ]
    }
   ],
   "source": [
    "#list comprehensions\n",
    "add_square = [ x**2 for x in range(1,11) if x % 2 == 1]\n",
    "print(add_square)"
   ]
  }
 ],
 "metadata": {
  "kernelspec": {
   "display_name": "Python 3",
   "language": "python",
   "name": "python3"
  },
  "language_info": {
   "codemirror_mode": {
    "name": "ipython",
    "version": 3
   },
   "file_extension": ".py",
   "mimetype": "text/x-python",
   "name": "python",
   "nbconvert_exporter": "python",
   "pygments_lexer": "ipython3",
   "version": "3.10.7"
  },
  "orig_nbformat": 4
 },
 "nbformat": 4,
 "nbformat_minor": 2
}
