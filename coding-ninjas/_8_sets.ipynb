{
 "cells": [
  {
   "cell_type": "code",
   "execution_count": 2,
   "metadata": {},
   "outputs": [
    {
     "name": "stdout",
     "output_type": "stream",
     "text": [
      "<class 'set'>\n"
     ]
    }
   ],
   "source": [
    "# declare a set\n",
    "var = {\"Geeks\",\"for\",\"Geeks\"}\n",
    "print(type(var))"
   ]
  },
  {
   "cell_type": "code",
   "execution_count": 10,
   "metadata": {},
   "outputs": [
    {
     "name": "stdout",
     "output_type": "stream",
     "text": [
      "{'d', 'c', 'b', 'a'}\n",
      "{'e', 'd', 'b', 'a', 'c'}\n"
     ]
    }
   ],
   "source": [
    "\n",
    "# type casting list to set\n",
    "myset = set([\"a\", \"b\", \"c\", \"d\"])\n",
    "print(myset)\n",
    "#adding element to the set\n",
    "myset.add(\"e\")\n",
    "print(myset)"
   ]
  },
  {
   "cell_type": "code",
   "execution_count": 14,
   "metadata": {},
   "outputs": [
    {
     "name": "stdout",
     "output_type": "stream",
     "text": [
      "normal_set : \n",
      "{'e', 'd', 'b', 'a', 'c'}\n",
      "frozen_set : \n",
      "frozenset({'e', 'f', 'g'})\n"
     ]
    }
   ],
   "source": [
    "# between normal and frozen set\n",
    "normal_set = set([\"a\",\"b\",\"c\",\"d\",\"e\"])\n",
    "print(\"normal_set : \")\n",
    "print(normal_set)\n",
    "\n",
    "# A frozen set\n",
    "frozen_set = frozenset([\"e\", \"f\", \"g\"])\n",
    "print(\"frozen_set : \")\n",
    "print(frozen_set)\n"
   ]
  },
  {
   "cell_type": "code",
   "execution_count": 19,
   "metadata": {},
   "outputs": [
    {
     "name": "stdout",
     "output_type": "stream",
     "text": [
      "People: {'Archi', 'Jay', 'Idrish'}\n",
      "{'Archi', 'Daxit', 'Jay', 'Idrish'}\n",
      "{1, 2, 3, 4, 5, 'Idrish', 'Jay', 'Daxit', 'Archi'}\n"
     ]
    }
   ],
   "source": [
    "# demonstrates adding elements in a set\n",
    "people = {\"Jay\",\"Idrish\",\"Archi\"}\n",
    "print(\"People: \", end=\"\")\n",
    "print(people)\n",
    "\n",
    "# adding to the set\n",
    "people.add(\"Daxit\")\n",
    "print(people)\n",
    "\n",
    "# with iterator\n",
    "for i in range(1,6) :\n",
    "    people.add(i)\n",
    "    \n",
    "print(people)\n",
    "    "
   ]
  }
 ],
 "metadata": {
  "kernelspec": {
   "display_name": "Python 3",
   "language": "python",
   "name": "python3"
  },
  "language_info": {
   "codemirror_mode": {
    "name": "ipython",
    "version": 3
   },
   "file_extension": ".py",
   "mimetype": "text/x-python",
   "name": "python",
   "nbconvert_exporter": "python",
   "pygments_lexer": "ipython3",
   "version": "3.10.7"
  },
  "orig_nbformat": 4
 },
 "nbformat": 4,
 "nbformat_minor": 2
}
