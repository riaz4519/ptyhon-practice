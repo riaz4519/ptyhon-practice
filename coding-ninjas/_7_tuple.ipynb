{
 "cells": [
  {
   "cell_type": "code",
   "execution_count": 15,
   "metadata": {},
   "outputs": [
    {
     "name": "stdout",
     "output_type": "stream",
     "text": [
      "Initial empty tuple  :\n",
      "()\n"
     ]
    }
   ],
   "source": [
    "#basic tuple empty example\n",
    "tuple1 = ()\n",
    "print(\"Initial empty tuple  :\")\n",
    "print(tuple1)"
   ]
  },
  {
   "cell_type": "code",
   "execution_count": 16,
   "metadata": {},
   "outputs": [
    {
     "name": "stdout",
     "output_type": "stream",
     "text": [
      "Tuple using string :\n",
      "('one', 'two')\n"
     ]
    }
   ],
   "source": [
    "#creating tuple using string\n",
    "tuple2 = (\"one\",\"two\")\n",
    "print(\"Tuple using string :\")\n",
    "print(tuple2)"
   ]
  },
  {
   "cell_type": "code",
   "execution_count": 17,
   "metadata": {},
   "outputs": [
    {
     "name": "stdout",
     "output_type": "stream",
     "text": [
      "(1, 2, 3, 4, 5)\n"
     ]
    }
   ],
   "source": [
    "#tuple using list\n",
    "list1 = [1,2,3,4,5]\n",
    "tuple3 = tuple(list1)\n",
    "print(tuple3)"
   ]
  },
  {
   "cell_type": "code",
   "execution_count": 18,
   "metadata": {},
   "outputs": [
    {
     "name": "stdout",
     "output_type": "stream",
     "text": [
      "('F', 'a', 'h', 'i', 'm')\n"
     ]
    }
   ],
   "source": [
    "#creating tuple with the build-in function\n",
    "tuple4 = tuple(\"Fahim\")\n",
    "print(tuple4)"
   ]
  },
  {
   "cell_type": "code",
   "execution_count": 19,
   "metadata": {},
   "outputs": [
    {
     "name": "stdout",
     "output_type": "stream",
     "text": [
      "(2, 'ArithmeticError', 1.2)\n"
     ]
    }
   ],
   "source": [
    "#creating tuples,mixed data types\n",
    "tuple5 = (2,\"ArithmeticError\",1.2)\n",
    "print(tuple5)"
   ]
  },
  {
   "cell_type": "code",
   "execution_count": 20,
   "metadata": {},
   "outputs": [
    {
     "name": "stdout",
     "output_type": "stream",
     "text": [
      "((), ('one', 'two'), (1, 2, 3, 4, 5), ('F', 'a', 'h', 'i', 'm'))\n"
     ]
    }
   ],
   "source": [
    "#nested tuples\n",
    "tuple6 = (tuple1, tuple2, tuple3, tuple4)\n",
    "print(tuple6)"
   ]
  },
  {
   "cell_type": "code",
   "execution_count": 21,
   "metadata": {},
   "outputs": [
    {
     "name": "stdout",
     "output_type": "stream",
     "text": [
      "('Geeks', 'Geeks', 'Geeks')\n"
     ]
    }
   ],
   "source": [
    "#tuple with repetation\n",
    "tuple7 = (\"Geeks\",)*3\n",
    "print(tuple7)"
   ]
  },
  {
   "cell_type": "code",
   "execution_count": 22,
   "metadata": {},
   "outputs": [
    {
     "name": "stdout",
     "output_type": "stream",
     "text": [
      "Geeks\n"
     ]
    }
   ],
   "source": [
    "#accessing tuple\n",
    "print(tuple7[0])"
   ]
  },
  {
   "cell_type": "code",
   "execution_count": 23,
   "metadata": {},
   "outputs": [
    {
     "name": "stdout",
     "output_type": "stream",
     "text": [
      "Geeks Geeks Geeks\n"
     ]
    }
   ],
   "source": [
    "#tupleUnpacking\n",
    "a,b,c = tuple7\n",
    "print(a,b,c)"
   ]
  },
  {
   "cell_type": "code",
   "execution_count": 26,
   "metadata": {},
   "outputs": [
    {
     "name": "stdout",
     "output_type": "stream",
     "text": [
      "(1, 2, 3, 4, 5, 2, 'ArithmeticError', 1.2)\n"
     ]
    }
   ],
   "source": [
    "#concate of tuple\n",
    "tuple8 = tuple3 + tuple5\n",
    "print(tuple8)"
   ]
  },
  {
   "cell_type": "code",
   "execution_count": 27,
   "metadata": {},
   "outputs": [
    {
     "name": "stdout",
     "output_type": "stream",
     "text": [
      "7\n"
     ]
    }
   ],
   "source": [
    "#index of tuple value\n",
    "print(tuple8.index(1.2))"
   ]
  },
  {
   "cell_type": "code",
   "execution_count": 28,
   "metadata": {},
   "outputs": [
    {
     "name": "stdout",
     "output_type": "stream",
     "text": [
      "2\n"
     ]
    }
   ],
   "source": [
    "#checking count of specific value\n",
    "print(tuple8.count(2))"
   ]
  }
 ],
 "metadata": {
  "kernelspec": {
   "display_name": "Python 3",
   "language": "python",
   "name": "python3"
  },
  "language_info": {
   "codemirror_mode": {
    "name": "ipython",
    "version": 3
   },
   "file_extension": ".py",
   "mimetype": "text/x-python",
   "name": "python",
   "nbconvert_exporter": "python",
   "pygments_lexer": "ipython3",
   "version": "3.10.7"
  },
  "orig_nbformat": 4
 },
 "nbformat": 4,
 "nbformat_minor": 2
}
