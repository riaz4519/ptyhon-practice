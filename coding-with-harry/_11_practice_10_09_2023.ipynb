{
 "cells": [
  {
   "cell_type": "code",
   "execution_count": 1,
   "metadata": {},
   "outputs": [
    {
     "name": "stdout",
     "output_type": "stream",
     "text": [
      "13\n",
      "5\n",
      "36\n",
      "1\n",
      "6561\n"
     ]
    }
   ],
   "source": [
    "\n",
    "# arithmetic operations\n",
    "a = 9\n",
    "b = 4\n",
    "\n",
    "# addition of numbers\n",
    "add = a + b\n",
    "\n",
    "# subtraction of numbers\n",
    "sub = a - b\n",
    "\n",
    "# multiplication of numbers\n",
    "mul = a * b\n",
    "\n",
    "# modulo of numbers\n",
    "mod = a % b\n",
    "\n",
    "# power\n",
    "p = a ** b\n",
    "\n",
    "print(add, sub, mul, mod,p,sep=\"\\n\")\n"
   ]
  },
  {
   "cell_type": "code",
   "execution_count": 2,
   "metadata": {},
   "outputs": [
    {
     "name": "stdout",
     "output_type": "stream",
     "text": [
      "False\n",
      "True\n",
      "False\n",
      "True\n",
      "False\n",
      "True\n"
     ]
    }
   ],
   "source": [
    "# comparision operators\n",
    "\n",
    "a = 13\n",
    "b = 33\n",
    "\n",
    "# test > , < , == , != , >= ,<=\n",
    "\n",
    "print(a > b)\n",
    "\n",
    "print( a < b)\n",
    "\n",
    "print( a == b)\n",
    "\n",
    "print( a != b)\n",
    "\n",
    "print( a >= b)\n",
    "\n",
    "print( a <= b)\n",
    "\n"
   ]
  },
  {
   "cell_type": "code",
   "execution_count": 4,
   "metadata": {},
   "outputs": [
    {
     "name": "stdout",
     "output_type": "stream",
     "text": [
      "False\n",
      "True\n",
      "False\n"
     ]
    }
   ],
   "source": [
    "# logical operators\n",
    "# and , or , not\n",
    "\n",
    "a = True\n",
    "b = False\n",
    "\n",
    "print(a and b)\n",
    "\n",
    "print(a or b)\n",
    "\n",
    "print(not a )\n",
    "\n"
   ]
  }
 ],
 "metadata": {
  "kernelspec": {
   "display_name": "Python 3",
   "language": "python",
   "name": "python3"
  },
  "language_info": {
   "codemirror_mode": {
    "name": "ipython",
    "version": 3
   },
   "file_extension": ".py",
   "mimetype": "text/x-python",
   "name": "python",
   "nbconvert_exporter": "python",
   "pygments_lexer": "ipython3",
   "version": "3.10.7"
  },
  "orig_nbformat": 4
 },
 "nbformat": 4,
 "nbformat_minor": 2
}
