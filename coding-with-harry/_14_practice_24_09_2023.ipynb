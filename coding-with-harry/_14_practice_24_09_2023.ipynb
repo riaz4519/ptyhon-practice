{
 "cells": [
  {
   "cell_type": "code",
   "execution_count": 1,
   "metadata": {},
   "outputs": [
    {
     "name": "stdout",
     "output_type": "stream",
     "text": [
      "A computer Science portal for geeks\n",
      "A\n"
     ]
    }
   ],
   "source": [
    "print(\"A computer Science portal for geeks\")\n",
    "print(\"A\")"
   ]
  },
  {
   "cell_type": "code",
   "execution_count": 2,
   "metadata": {},
   "outputs": [
    {
     "name": "stdout",
     "output_type": "stream",
     "text": [
      "wecome to the geeks world\n"
     ]
    }
   ],
   "source": [
    "string1 = 'wecome to the geeks world'\n",
    "print(string1)"
   ]
  },
  {
   "cell_type": "code",
   "execution_count": 3,
   "metadata": {},
   "outputs": [
    {
     "name": "stdout",
     "output_type": "stream",
     "text": [
      "I'm a geek\n"
     ]
    }
   ],
   "source": [
    "string1 = \"I'm a geek\"\n",
    "print(string1)"
   ]
  },
  {
   "cell_type": "code",
   "execution_count": 5,
   "metadata": {},
   "outputs": [
    {
     "name": "stdout",
     "output_type": "stream",
     "text": [
      "i'm a geek and i live in the world of \"Geeks\"\n"
     ]
    }
   ],
   "source": [
    "string1 = '''i'm a geek and i live in the world of \"Geeks\"'''\n",
    "print(string1)"
   ]
  },
  {
   "cell_type": "code",
   "execution_count": 7,
   "metadata": {},
   "outputs": [
    {
     "name": "stdout",
     "output_type": "stream",
     "text": [
      "This is the string that will be used :  FahimMdRiaz\n",
      "F\n",
      "z\n"
     ]
    }
   ],
   "source": [
    "#accessing character in python string\n",
    "string1 = \"FahimMdRiaz\"\n",
    "print(\"This is the string that will be used : \", string1)\n",
    "\n",
    "#accessing the first character in python string\n",
    "print(string1[0])\n",
    "\n",
    "#printing the last character in python string\n",
    "print(string1[-1])"
   ]
  },
  {
   "cell_type": "code",
   "execution_count": 9,
   "metadata": {},
   "outputs": [
    {
     "name": "stdout",
     "output_type": "stream",
     "text": [
      "ahim\n",
      "imMd.Ri\n"
     ]
    }
   ],
   "source": [
    "#slicning string\n",
    "\n",
    "string1 = \"FahimMd.Riaz\"\n",
    "\n",
    "print(string1[1:5])\n",
    "\n",
    "# 3rd to second last string\n",
    "print(string1[3: -2])\n"
   ]
  },
  {
   "cell_type": "code",
   "execution_count": 10,
   "metadata": {},
   "outputs": [
    {
     "name": "stdout",
     "output_type": "stream",
     "text": [
      "zaiR.dMmihaF\n"
     ]
    }
   ],
   "source": [
    "# reverse a python string\n",
    "string1 = \"FahimMd.Riaz\"\n",
    "print(string1[::-1])"
   ]
  },
  {
   "cell_type": "code",
   "execution_count": 13,
   "metadata": {},
   "outputs": [
    {
     "name": "stdout",
     "output_type": "stream",
     "text": [
      "zaiR.dMmihaF\n"
     ]
    }
   ],
   "source": [
    "#reverse with join\n",
    "string1 = \"FahimMd.Riaz\"\n",
    "string1 = \"\".join(reversed(string1))\n",
    "print(string1)"
   ]
  },
  {
   "cell_type": "code",
   "execution_count": 15,
   "metadata": {},
   "outputs": [
    {
     "name": "stdout",
     "output_type": "stream",
     "text": [
      "FahimMd.Riaz\n",
      "FabimMd.Riaz\n",
      "FapimMd.Riaz\n"
     ]
    }
   ],
   "source": [
    "#updating character in python\n",
    "#directly it can not be done\n",
    "\n",
    "#way\n",
    "#convert the string into a list the update into the list then join\n",
    "string1 = \"FahimMd.Riaz\"\n",
    "list1 = list(string1)\n",
    "list1[2]=\"b\"\n",
    "string2 = ''.join(list1)\n",
    "print(string1)\n",
    "print(string2)\n",
    "\n",
    "#way number two\n",
    "string3 = string1[0:2] + \"p\" + string1[3:]\n",
    "print(string3)\n"
   ]
  },
  {
   "cell_type": "code",
   "execution_count": 16,
   "metadata": {},
   "outputs": [
    {
     "name": "stdout",
     "output_type": "stream",
     "text": [
      "I am the first string\n",
      "i am the updated string\n"
     ]
    }
   ],
   "source": [
    "# updateing a entire string\n",
    "string1 = \"I am the first string\"\n",
    "print(string1)\n",
    "\n",
    "#update a whole string\n",
    "string1 = \"i am the updated string\"\n",
    "print(string1)"
   ]
  },
  {
   "cell_type": "code",
   "execution_count": 17,
   "metadata": {},
   "outputs": [
    {
     "name": "stdout",
     "output_type": "stream",
     "text": [
      "FaimMd.Riaz\n"
     ]
    }
   ],
   "source": [
    "# normal deleting is not possible in string \n",
    "\n",
    "# there is a trick\n",
    "#1\n",
    "string1 = \"FahimMd.Riaz\"\n",
    "\n",
    "string2 = string1[0:2] + string1[3:]\n",
    "print(string2)\n"
   ]
  }
 ],
 "metadata": {
  "kernelspec": {
   "display_name": "Python 3",
   "language": "python",
   "name": "python3"
  },
  "language_info": {
   "codemirror_mode": {
    "name": "ipython",
    "version": 3
   },
   "file_extension": ".py",
   "mimetype": "text/x-python",
   "name": "python",
   "nbconvert_exporter": "python",
   "pygments_lexer": "ipython3",
   "version": "3.10.7"
  },
  "orig_nbformat": 4
 },
 "nbformat": 4,
 "nbformat_minor": 2
}
