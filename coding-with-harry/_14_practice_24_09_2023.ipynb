{
 "cells": [
  {
   "cell_type": "code",
   "execution_count": 1,
   "metadata": {},
   "outputs": [
    {
     "name": "stdout",
     "output_type": "stream",
     "text": [
      "A computer Science portal for geeks\n",
      "A\n"
     ]
    }
   ],
   "source": [
    "print(\"A computer Science portal for geeks\")\n",
    "print(\"A\")"
   ]
  },
  {
   "cell_type": "code",
   "execution_count": 2,
   "metadata": {},
   "outputs": [
    {
     "name": "stdout",
     "output_type": "stream",
     "text": [
      "wecome to the geeks world\n"
     ]
    }
   ],
   "source": [
    "string1 = 'wecome to the geeks world'\n",
    "print(string1)"
   ]
  },
  {
   "cell_type": "code",
   "execution_count": 3,
   "metadata": {},
   "outputs": [
    {
     "name": "stdout",
     "output_type": "stream",
     "text": [
      "I'm a geek\n"
     ]
    }
   ],
   "source": [
    "string1 = \"I'm a geek\"\n",
    "print(string1)"
   ]
  },
  {
   "cell_type": "code",
   "execution_count": 5,
   "metadata": {},
   "outputs": [
    {
     "name": "stdout",
     "output_type": "stream",
     "text": [
      "i'm a geek and i live in the world of \"Geeks\"\n"
     ]
    }
   ],
   "source": [
    "string1 = '''i'm a geek and i live in the world of \"Geeks\"'''\n",
    "print(string1)"
   ]
  },
  {
   "cell_type": "code",
   "execution_count": 7,
   "metadata": {},
   "outputs": [
    {
     "name": "stdout",
     "output_type": "stream",
     "text": [
      "This is the string that will be used :  FahimMdRiaz\n",
      "F\n",
      "z\n"
     ]
    }
   ],
   "source": [
    "#accessing character in python string\n",
    "string1 = \"FahimMdRiaz\"\n",
    "print(\"This is the string that will be used : \", string1)\n",
    "\n",
    "#accessing the first character in python string\n",
    "print(string1[0])\n",
    "\n",
    "#printing the last character in python string\n",
    "print(string1[-1])"
   ]
  },
  {
   "cell_type": "code",
   "execution_count": 9,
   "metadata": {},
   "outputs": [
    {
     "name": "stdout",
     "output_type": "stream",
     "text": [
      "ahim\n",
      "imMd.Ri\n"
     ]
    }
   ],
   "source": [
    "#slicning string\n",
    "\n",
    "string1 = \"FahimMd.Riaz\"\n",
    "\n",
    "print(string1[1:5])\n",
    "\n",
    "# 3rd to second last string\n",
    "print(string1[3: -2])\n"
   ]
  },
  {
   "cell_type": "code",
   "execution_count": 10,
   "metadata": {},
   "outputs": [
    {
     "name": "stdout",
     "output_type": "stream",
     "text": [
      "zaiR.dMmihaF\n"
     ]
    }
   ],
   "source": [
    "# reverse a python string\n",
    "string1 = \"FahimMd.Riaz\"\n",
    "print(string1[::-1])"
   ]
  },
  {
   "cell_type": "code",
   "execution_count": 13,
   "metadata": {},
   "outputs": [
    {
     "name": "stdout",
     "output_type": "stream",
     "text": [
      "zaiR.dMmihaF\n"
     ]
    }
   ],
   "source": [
    "#reverse with join\n",
    "string1 = \"FahimMd.Riaz\"\n",
    "string1 = \"\".join(reversed(string1))\n",
    "print(string1)"
   ]
  },
  {
   "cell_type": "code",
   "execution_count": 15,
   "metadata": {},
   "outputs": [
    {
     "name": "stdout",
     "output_type": "stream",
     "text": [
      "FahimMd.Riaz\n",
      "FabimMd.Riaz\n",
      "FapimMd.Riaz\n"
     ]
    }
   ],
   "source": [
    "#updating character in python\n",
    "#directly it can not be done\n",
    "\n",
    "#way\n",
    "#convert the string into a list the update into the list then join\n",
    "string1 = \"FahimMd.Riaz\"\n",
    "list1 = list(string1)\n",
    "list1[2]=\"b\"\n",
    "string2 = ''.join(list1)\n",
    "print(string1)\n",
    "print(string2)\n",
    "\n",
    "#way number two\n",
    "string3 = string1[0:2] + \"p\" + string1[3:]\n",
    "print(string3)\n"
   ]
  },
  {
   "cell_type": "code",
   "execution_count": 16,
   "metadata": {},
   "outputs": [
    {
     "name": "stdout",
     "output_type": "stream",
     "text": [
      "I am the first string\n",
      "i am the updated string\n"
     ]
    }
   ],
   "source": [
    "# updateing a entire string\n",
    "string1 = \"I am the first string\"\n",
    "print(string1)\n",
    "\n",
    "#update a whole string\n",
    "string1 = \"i am the updated string\"\n",
    "print(string1)"
   ]
  },
  {
   "cell_type": "code",
   "execution_count": 17,
   "metadata": {},
   "outputs": [
    {
     "name": "stdout",
     "output_type": "stream",
     "text": [
      "FaimMd.Riaz\n"
     ]
    }
   ],
   "source": [
    "# normal deleting is not possible in string \n",
    "\n",
    "# there is a trick\n",
    "#1\n",
    "string1 = \"FahimMd.Riaz\"\n",
    "\n",
    "string2 = string1[0:2] + string1[3:]\n",
    "print(string2)\n"
   ]
  },
  {
   "cell_type": "code",
   "execution_count": 1,
   "metadata": {},
   "outputs": [
    {
     "name": "stdout",
     "output_type": "stream",
     "text": [
      "Fahim Md Riaz \n"
     ]
    }
   ],
   "source": [
    "# formatting string\n",
    "#default\n",
    "string1 = \"{} {} {} \".format(\"Fahim\",\"Md\",\"Riaz\")\n",
    "print(string1)"
   ]
  },
  {
   "cell_type": "code",
   "execution_count": 4,
   "metadata": {},
   "outputs": [
    {
     "name": "stdout",
     "output_type": "stream",
     "text": [
      "Fahim Md  Riaz\n"
     ]
    }
   ],
   "source": [
    "# formatting \n",
    "# positional\n",
    "\n",
    "string1 = \"{0} {1}  {2}\".format(\"Fahim\",\"Md\",\"Riaz\")\n",
    "print(string1)\n"
   ]
  },
  {
   "cell_type": "code",
   "execution_count": 5,
   "metadata": {},
   "outputs": [
    {
     "name": "stdout",
     "output_type": "stream",
     "text": [
      "Riaz fahim Md.\n"
     ]
    }
   ],
   "source": [
    "# key workd formatting \n",
    "string1 = \"{lastName} {firstName} {middleName}\".format(firstName=\"fahim\",middleName=\"Md.\",lastName=\"Riaz\")\n",
    "print(string1)"
   ]
  },
  {
   "cell_type": "code",
   "execution_count": 6,
   "metadata": {},
   "outputs": [
    {
     "name": "stdout",
     "output_type": "stream",
     "text": [
      "10000\n"
     ]
    }
   ],
   "source": [
    "# formating of integers\n",
    "string1 = \"{0:b}\".format(16)\n",
    "print(string1)"
   ]
  },
  {
   "cell_type": "code",
   "execution_count": 8,
   "metadata": {},
   "outputs": [
    {
     "name": "stdout",
     "output_type": "stream",
     "text": [
      "1.666600e+02\n"
     ]
    }
   ],
   "source": [
    "string1 = \"{0:e}\".format(166.66)\n",
    "print(string1)"
   ]
  },
  {
   "cell_type": "code",
   "execution_count": 9,
   "metadata": {},
   "outputs": [
    {
     "name": "stdout",
     "output_type": "stream",
     "text": [
      "16.55\n"
     ]
    }
   ],
   "source": [
    "string1 = \"{0:.2f}\".format(16.54578742)\n",
    "print(string1)"
   ]
  },
  {
   "cell_type": "code",
   "execution_count": 12,
   "metadata": {},
   "outputs": [
    {
     "name": "stdout",
     "output_type": "stream",
     "text": [
      "|Fahim     |   Md.    |      Riaz|\n"
     ]
    }
   ],
   "source": [
    "string1 = \"|{:<10}|{:^10}|{:>10}|\".format(\"Fahim\",\"Md.\",\"Riaz\")\n",
    "print(string1)"
   ]
  },
  {
   "cell_type": "code",
   "execution_count": 13,
   "metadata": {},
   "outputs": [
    {
     "name": "stdout",
     "output_type": "stream",
     "text": [
      "12\n"
     ]
    }
   ],
   "source": [
    "string1 = \"FahimMd.Riaz\"\n",
    "print(len(string1))"
   ]
  },
  {
   "cell_type": "code",
   "execution_count": 14,
   "metadata": {},
   "outputs": [
    {
     "name": "stdout",
     "output_type": "stream",
     "text": [
      "3\n"
     ]
    }
   ],
   "source": [
    "tup = (1,2,3)\n",
    "print(len(tup))"
   ]
  },
  {
   "cell_type": "code",
   "execution_count": null,
   "metadata": {},
   "outputs": [],
   "source": [
    "list1 = [1,2,3,4,5,6,7,8,9]\n",
    "print(len(list1))"
   ]
  },
  {
   "cell_type": "code",
   "execution_count": 16,
   "metadata": {},
   "outputs": [
    {
     "name": "stdout",
     "output_type": "stream",
     "text": [
      "3\n",
      "3\n"
     ]
    }
   ],
   "source": [
    "dic = {'a': 'a', 'b': 'b', 'c': 'c'}\n",
    "print(len(dic))\n",
    "set1 = {1,2,3,2}\n",
    "print(len(set1))\n"
   ]
  },
  {
   "cell_type": "code",
   "execution_count": 17,
   "metadata": {},
   "outputs": [
    {
     "name": "stdout",
     "output_type": "stream",
     "text": [
      "12\n"
     ]
    }
   ],
   "source": [
    "class Public:\n",
    "    def __init__(self,number):\n",
    "        self.number = number\n",
    "    def __len__(self):\n",
    "        return self.number\n",
    "    \n",
    "obj = Public(12)\n",
    "print(len(obj))"
   ]
  },
  {
   "cell_type": "code",
   "execution_count": 22,
   "metadata": {},
   "outputs": [
    {
     "name": "stdout",
     "output_type": "stream",
     "text": [
      "Fah\n",
      "aiM\n",
      "zi.\n"
     ]
    }
   ],
   "source": [
    "# string slicing\n",
    "# two ways \n",
    "# with slice method\n",
    "# with array slicing \n",
    "\n",
    "string1 = \"FahimMd.Riaz\"\n",
    "#slice\n",
    "\n",
    "# slice constructor\n",
    "s1 = slice(3)\n",
    "s2 = slice(1,6,2)\n",
    "s3 = slice(-1,-6,-2)\n",
    "\n",
    "print(string1[s1])\n",
    "print(string1[s2])\n",
    "print(string1[s3])\n",
    "\n",
    "\n",
    "\n",
    "\n"
   ]
  },
  {
   "cell_type": "code",
   "execution_count": 28,
   "metadata": {},
   "outputs": [
    {
     "name": "stdout",
     "output_type": "stream",
     "text": [
      "Fah\n",
      "ai\n",
      "zi.\n",
      "zaiR.dMmihaF\n"
     ]
    }
   ],
   "source": [
    "# array slicing\n",
    "string1 = \"FahimMd.Riaz\"\n",
    "\n",
    "print(string1[:3])\n",
    "print(string1[1:5:2])\n",
    "print(string1[-1:-6:-2])\n",
    "\n",
    "# reverse \n",
    "print(string1[::-1])"
   ]
  },
  {
   "cell_type": "code",
   "execution_count": 29,
   "metadata": {},
   "outputs": [
    {
     "name": "stdout",
     "output_type": "stream",
     "text": [
      "zaiR.dMmihaF\n"
     ]
    }
   ],
   "source": [
    "# reverse with loop\n",
    "def reverse(s):\n",
    "    str = \"\"\n",
    "    for i in s :\n",
    "        str = i + str\n",
    "    \n",
    "    return str\n",
    "\n",
    "string1 = \"FahimMd.Riaz\"\n",
    "print(reverse(string1))"
   ]
  },
  {
   "cell_type": "code",
   "execution_count": 31,
   "metadata": {},
   "outputs": [
    {
     "name": "stdout",
     "output_type": "stream",
     "text": [
      "zaiR.dMmihaF\n"
     ]
    }
   ],
   "source": [
    "def reverse(s):\n",
    "    if len(s) == 0 :\n",
    "        return s\n",
    "    else :\n",
    "        return reverse(s[1:]) + s[0]\n",
    "    \n",
    "string1 = \"FahimMd.Riaz\"\n",
    "print(reverse(string1))"
   ]
  }
 ],
 "metadata": {
  "kernelspec": {
   "display_name": "Python 3",
   "language": "python",
   "name": "python3"
  },
  "language_info": {
   "codemirror_mode": {
    "name": "ipython",
    "version": 3
   },
   "file_extension": ".py",
   "mimetype": "text/x-python",
   "name": "python",
   "nbconvert_exporter": "python",
   "pygments_lexer": "ipython3",
   "version": "3.11.4"
  },
  "orig_nbformat": 4
 },
 "nbformat": 4,
 "nbformat_minor": 2
}
