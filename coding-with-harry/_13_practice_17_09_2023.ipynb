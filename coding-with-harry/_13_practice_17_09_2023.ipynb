{
 "cells": [
  {
   "cell_type": "code",
   "execution_count": 3,
   "metadata": {},
   "outputs": [
    {
     "name": "stdout",
     "output_type": "stream",
     "text": [
      "Type of a  :  <class 'int'>\n",
      "Type of b :  <class 'float'>\n",
      "Type of c :  <class 'complex'>\n"
     ]
    }
   ],
   "source": [
    "a = 5 \n",
    "print(\"Type of a  : \",type(a))\n",
    "\n",
    "b = 5.0\n",
    "\n",
    "print(\"Type of b : \",type(b))\n",
    "\n",
    "c = 2 + 4j\n",
    "print(\"Type of c : \",type(c))"
   ]
  },
  {
   "cell_type": "code",
   "execution_count": 4,
   "metadata": {},
   "outputs": [
    {
     "name": "stdout",
     "output_type": "stream",
     "text": [
      "Welcome to the geeks world\n"
     ]
    }
   ],
   "source": [
    "# string with single quote\n",
    "string1 = 'Welcome to the geeks world'\n",
    "print(string1)"
   ]
  },
  {
   "cell_type": "code",
   "execution_count": null,
   "metadata": {},
   "outputs": [],
   "source": [
    "string1 = \"string with double quotes\"\n",
    "print(string1)"
   ]
  },
  {
   "cell_type": "code",
   "execution_count": 5,
   "metadata": {},
   "outputs": [
    {
     "name": "stdout",
     "output_type": "stream",
     "text": [
      "This is a string of tripple qoutes\n"
     ]
    }
   ],
   "source": [
    "# creating string with triple quotes \n",
    "string1 = '''This is a string of tripple qoutes'''\n",
    "print(string1)"
   ]
  },
  {
   "cell_type": "code",
   "execution_count": 7,
   "metadata": {},
   "outputs": [
    {
     "name": "stdout",
     "output_type": "stream",
     "text": [
      "\n",
      "\n",
      "Thi sis a \n",
      "double line\n",
      "\n",
      "\n"
     ]
    }
   ],
   "source": [
    "string1 = \"\"\"\n",
    "\n",
    "Thi sis a \n",
    "double line\n",
    "\n",
    "\"\"\"\n",
    "print(string1)"
   ]
  },
  {
   "cell_type": "code",
   "execution_count": 9,
   "metadata": {},
   "outputs": [
    {
     "name": "stdout",
     "output_type": "stream",
     "text": [
      "t\n",
      "s\n"
     ]
    }
   ],
   "source": [
    "#accessing string characters\n",
    "string1 = \"this is a string to access\"\n",
    "#accessing with positive index\n",
    "print(string1[0])\n",
    "\n",
    "#acccessing with negative index\n",
    "print(string1[-1])"
   ]
  },
  {
   "cell_type": "code",
   "execution_count": 10,
   "metadata": {},
   "outputs": [
    {
     "name": "stdout",
     "output_type": "stream",
     "text": [
      "Initial blank list : \n",
      "[]\n"
     ]
    }
   ],
   "source": [
    "#createing a list\n",
    "List = []\n",
    "print(\"Initial blank list : \")\n",
    "print(List)"
   ]
  },
  {
   "cell_type": "code",
   "execution_count": 11,
   "metadata": {},
   "outputs": [
    {
     "name": "stdout",
     "output_type": "stream",
     "text": [
      "['data for data']\n"
     ]
    }
   ],
   "source": [
    "#creating list with string\n",
    "List = ['data for data']\n",
    "print(List)"
   ]
  },
  {
   "cell_type": "code",
   "execution_count": 14,
   "metadata": {},
   "outputs": [
    {
     "name": "stdout",
     "output_type": "stream",
     "text": [
      "['Fahim', 'Md', 'Riaz']\n",
      "Fahim\n",
      "Md\n",
      "Riaz\n"
     ]
    }
   ],
   "source": [
    "#creating list with multiple values\n",
    "List = [\"Fahim\",\"Md\",\"Riaz\"]\n",
    "print(List)\n",
    "#accessing list\n",
    "print(List[0])\n",
    "print(List[1])\n",
    "\n",
    "#accessing with negative indexing\n",
    "print(List[-1])"
   ]
  },
  {
   "cell_type": "code",
   "execution_count": 15,
   "metadata": {},
   "outputs": [
    {
     "name": "stdout",
     "output_type": "stream",
     "text": [
      "()\n"
     ]
    }
   ],
   "source": [
    "#creating a empty tuple\n",
    "tuple1 = ()\n",
    "print(tuple1)"
   ]
  },
  {
   "cell_type": "code",
   "execution_count": 16,
   "metadata": {},
   "outputs": [
    {
     "name": "stdout",
     "output_type": "stream",
     "text": [
      "('Geek', 'Geek')\n"
     ]
    }
   ],
   "source": [
    "#creating tuple with string\n",
    "tuple1 = (\"Geek\",\"Geek\")\n",
    "print(tuple1)"
   ]
  },
  {
   "cell_type": "code",
   "execution_count": 17,
   "metadata": {},
   "outputs": [
    {
     "name": "stdout",
     "output_type": "stream",
     "text": [
      "(1, 2, 3, 4, 5, 6, 7, 8)\n"
     ]
    }
   ],
   "source": [
    "#creatin tuple with number\n",
    "tuple1 = (1,2,3,4,5,6,7,8)\n",
    "print(tuple1)"
   ]
  },
  {
   "cell_type": "code",
   "execution_count": 19,
   "metadata": {},
   "outputs": [
    {
     "name": "stdout",
     "output_type": "stream",
     "text": [
      "('F', 'a', 'h', 'i', 'm')\n"
     ]
    }
   ],
   "source": [
    "#creatin tuple with the build in function\n",
    "tuple1 = tuple(\"Fahim\")\n",
    "print(tuple1)"
   ]
  },
  {
   "cell_type": "code",
   "execution_count": 20,
   "metadata": {},
   "outputs": [
    {
     "name": "stdout",
     "output_type": "stream",
     "text": [
      "((1, 2, 3, 4, 5, 6, 7), ('Fahim', 'Md'))\n"
     ]
    }
   ],
   "source": [
    "#creating tuple with nested tuple\n",
    "tuple1 = (1,2,3,4,5,6,7)\n",
    "tuple2 = (\"Fahim\",\"Md\")\n",
    "tuple3 = (tuple1,tuple2)\n",
    "print(tuple3)"
   ]
  },
  {
   "cell_type": "code",
   "execution_count": null,
   "metadata": {},
   "outputs": [],
   "source": [
    "#like other sequence type variable\n",
    "#tuple can be accessed directly by index\n",
    "\n",
    "#first create tuple with list\n"
   ]
  }
 ],
 "metadata": {
  "kernelspec": {
   "display_name": "Python 3",
   "language": "python",
   "name": "python3"
  },
  "language_info": {
   "codemirror_mode": {
    "name": "ipython",
    "version": 3
   },
   "file_extension": ".py",
   "mimetype": "text/x-python",
   "name": "python",
   "nbconvert_exporter": "python",
   "pygments_lexer": "ipython3",
   "version": "3.10.7"
  },
  "orig_nbformat": 4
 },
 "nbformat": 4,
 "nbformat_minor": 2
}
