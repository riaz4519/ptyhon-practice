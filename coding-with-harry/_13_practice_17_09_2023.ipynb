{
 "cells": [
  {
   "cell_type": "code",
   "execution_count": 3,
   "metadata": {},
   "outputs": [
    {
     "name": "stdout",
     "output_type": "stream",
     "text": [
      "Type of a  :  <class 'int'>\n",
      "Type of b :  <class 'float'>\n",
      "Type of c :  <class 'complex'>\n"
     ]
    }
   ],
   "source": [
    "a = 5 \n",
    "print(\"Type of a  : \",type(a))\n",
    "\n",
    "b = 5.0\n",
    "\n",
    "print(\"Type of b : \",type(b))\n",
    "\n",
    "c = 2 + 4j\n",
    "print(\"Type of c : \",type(c))"
   ]
  },
  {
   "cell_type": "code",
   "execution_count": 4,
   "metadata": {},
   "outputs": [
    {
     "name": "stdout",
     "output_type": "stream",
     "text": [
      "Welcome to the geeks world\n"
     ]
    }
   ],
   "source": [
    "# string with single quote\n",
    "string1 = 'Welcome to the geeks world'\n",
    "print(string1)"
   ]
  },
  {
   "cell_type": "code",
   "execution_count": null,
   "metadata": {},
   "outputs": [],
   "source": [
    "string1 = \"string with double quotes\"\n",
    "print(string1)"
   ]
  },
  {
   "cell_type": "code",
   "execution_count": 5,
   "metadata": {},
   "outputs": [
    {
     "name": "stdout",
     "output_type": "stream",
     "text": [
      "This is a string of tripple qoutes\n"
     ]
    }
   ],
   "source": [
    "# creating string with triple quotes \n",
    "string1 = '''This is a string of tripple qoutes'''\n",
    "print(string1)"
   ]
  },
  {
   "cell_type": "code",
   "execution_count": 7,
   "metadata": {},
   "outputs": [
    {
     "name": "stdout",
     "output_type": "stream",
     "text": [
      "\n",
      "\n",
      "Thi sis a \n",
      "double line\n",
      "\n",
      "\n"
     ]
    }
   ],
   "source": [
    "string1 = \"\"\"\n",
    "\n",
    "Thi sis a \n",
    "double line\n",
    "\n",
    "\"\"\"\n",
    "print(string1)"
   ]
  },
  {
   "cell_type": "code",
   "execution_count": 9,
   "metadata": {},
   "outputs": [
    {
     "name": "stdout",
     "output_type": "stream",
     "text": [
      "t\n",
      "s\n"
     ]
    }
   ],
   "source": [
    "#accessing string characters\n",
    "string1 = \"this is a string to access\"\n",
    "#accessing with positive index\n",
    "print(string1[0])\n",
    "\n",
    "#acccessing with negative index\n",
    "print(string1[-1])"
   ]
  },
  {
   "cell_type": "code",
   "execution_count": 10,
   "metadata": {},
   "outputs": [
    {
     "name": "stdout",
     "output_type": "stream",
     "text": [
      "Initial blank list : \n",
      "[]\n"
     ]
    }
   ],
   "source": [
    "#createing a list\n",
    "List = []\n",
    "print(\"Initial blank list : \")\n",
    "print(List)"
   ]
  },
  {
   "cell_type": "code",
   "execution_count": 11,
   "metadata": {},
   "outputs": [
    {
     "name": "stdout",
     "output_type": "stream",
     "text": [
      "['data for data']\n"
     ]
    }
   ],
   "source": [
    "#creating list with string\n",
    "List = ['data for data']\n",
    "print(List)"
   ]
  },
  {
   "cell_type": "code",
   "execution_count": 14,
   "metadata": {},
   "outputs": [
    {
     "name": "stdout",
     "output_type": "stream",
     "text": [
      "['Fahim', 'Md', 'Riaz']\n",
      "Fahim\n",
      "Md\n",
      "Riaz\n"
     ]
    }
   ],
   "source": [
    "#creating list with multiple values\n",
    "List = [\"Fahim\",\"Md\",\"Riaz\"]\n",
    "print(List)\n",
    "#accessing list\n",
    "print(List[0])\n",
    "print(List[1])\n",
    "\n",
    "#accessing with negative indexing\n",
    "print(List[-1])"
   ]
  },
  {
   "cell_type": "code",
   "execution_count": 15,
   "metadata": {},
   "outputs": [
    {
     "name": "stdout",
     "output_type": "stream",
     "text": [
      "()\n"
     ]
    }
   ],
   "source": [
    "#creating a empty tuple\n",
    "tuple1 = ()\n",
    "print(tuple1)"
   ]
  },
  {
   "cell_type": "code",
   "execution_count": 16,
   "metadata": {},
   "outputs": [
    {
     "name": "stdout",
     "output_type": "stream",
     "text": [
      "('Geek', 'Geek')\n"
     ]
    }
   ],
   "source": [
    "#creating tuple with string\n",
    "tuple1 = (\"Geek\",\"Geek\")\n",
    "print(tuple1)"
   ]
  },
  {
   "cell_type": "code",
   "execution_count": 17,
   "metadata": {},
   "outputs": [
    {
     "name": "stdout",
     "output_type": "stream",
     "text": [
      "(1, 2, 3, 4, 5, 6, 7, 8)\n"
     ]
    }
   ],
   "source": [
    "#creatin tuple with number\n",
    "tuple1 = (1,2,3,4,5,6,7,8)\n",
    "print(tuple1)"
   ]
  },
  {
   "cell_type": "code",
   "execution_count": 19,
   "metadata": {},
   "outputs": [
    {
     "name": "stdout",
     "output_type": "stream",
     "text": [
      "('F', 'a', 'h', 'i', 'm')\n"
     ]
    }
   ],
   "source": [
    "#creatin tuple with the build in function\n",
    "tuple1 = tuple(\"Fahim\")\n",
    "print(tuple1)"
   ]
  },
  {
   "cell_type": "code",
   "execution_count": 20,
   "metadata": {},
   "outputs": [
    {
     "name": "stdout",
     "output_type": "stream",
     "text": [
      "((1, 2, 3, 4, 5, 6, 7), ('Fahim', 'Md'))\n"
     ]
    }
   ],
   "source": [
    "#creating tuple with nested tuple\n",
    "tuple1 = (1,2,3,4,5,6,7)\n",
    "tuple2 = (\"Fahim\",\"Md\")\n",
    "tuple3 = (tuple1,tuple2)\n",
    "print(tuple3)"
   ]
  },
  {
   "cell_type": "code",
   "execution_count": 4,
   "metadata": {},
   "outputs": [
    {
     "name": "stdout",
     "output_type": "stream",
     "text": [
      "(1, 2, 3, 4, 5, 6, 7, 8)\n",
      "2\n",
      "1\n",
      "8\n"
     ]
    }
   ],
   "source": [
    "#like other sequence type variable\n",
    "#tuple can be accessed directly by index\n",
    "\n",
    "#first create tuple with list\n",
    "tuple1 = tuple([1,2,3,4,5,6,7,8])\n",
    "print(tuple1)\n",
    "\n",
    "#accessing tuple with positive index\n",
    "print(tuple1[1])\n",
    "print(tuple1[0])\n",
    "\n",
    "#accessing tuple with negative index\n",
    "print(tuple1[-1])\n"
   ]
  },
  {
   "cell_type": "code",
   "execution_count": 5,
   "metadata": {},
   "outputs": [
    {
     "name": "stdout",
     "output_type": "stream",
     "text": [
      "set()\n"
     ]
    }
   ],
   "source": [
    "#creating a empty set \n",
    "set1 = set()\n",
    "print(set1)\n"
   ]
  },
  {
   "cell_type": "code",
   "execution_count": 6,
   "metadata": {},
   "outputs": [
    {
     "name": "stdout",
     "output_type": "stream",
     "text": [
      "{'r', 'k', 'o', 'g', 's', 'f', 'e', ' '}\n"
     ]
    }
   ],
   "source": [
    "# creating set with string\n",
    "set1 = set(\"geeks for geeks\")\n",
    "print(set1)"
   ]
  },
  {
   "cell_type": "code",
   "execution_count": 7,
   "metadata": {},
   "outputs": [
    {
     "name": "stdout",
     "output_type": "stream",
     "text": [
      "{1, 4, 5, 6, 7, 8, 2154, 17, 18, 19}\n"
     ]
    }
   ],
   "source": [
    "#creating set with list\n",
    "set1 = set([1,2154,4,6,7,1,5,6,8,17,18,19])\n",
    "print(set1)"
   ]
  },
  {
   "cell_type": "code",
   "execution_count": 9,
   "metadata": {},
   "outputs": [
    {
     "name": "stdout",
     "output_type": "stream",
     "text": [
      "{1, 2.0, 'data'}\n"
     ]
    }
   ],
   "source": [
    "#set wtih multiple data types array\n",
    "set1 = set([\"data\",1,2.0])\n",
    "print(set1)"
   ]
  },
  {
   "cell_type": "code",
   "execution_count": 10,
   "metadata": {},
   "outputs": [
    {
     "name": "stdout",
     "output_type": "stream",
     "text": [
      "For\n",
      "Geeks\n"
     ]
    }
   ],
   "source": [
    "#accessing set items\n",
    "# can not be done with index ,because set does not any set indexing\n",
    "set1 = set([\"Geeks\",\"For\",\"Geeks\"])\n",
    "\n",
    "for item in set1:\n",
    "    print(item)"
   ]
  },
  {
   "cell_type": "code",
   "execution_count": 11,
   "metadata": {},
   "outputs": [
    {
     "name": "stdout",
     "output_type": "stream",
     "text": [
      "{}\n"
     ]
    }
   ],
   "source": [
    "#dictionary data type\n",
    "\n",
    "#creating empty dictionary\n",
    "dict1 = {}\n",
    "\n",
    "print(dict1)\n",
    "\n",
    "\n"
   ]
  },
  {
   "cell_type": "code",
   "execution_count": 12,
   "metadata": {},
   "outputs": [
    {
     "name": "stdout",
     "output_type": "stream",
     "text": [
      "{1: 'Hello', 2: 'World', 3: 'Fahim'}\n"
     ]
    }
   ],
   "source": [
    "#dictionary with integer keys\n",
    "\n",
    "dict1 = { 1 : \"Hello\", 2 : \"World\", 3 : \"Fahim\"}\n",
    "print(dict1)"
   ]
  },
  {
   "cell_type": "code",
   "execution_count": 13,
   "metadata": {},
   "outputs": [
    {
     "name": "stdout",
     "output_type": "stream",
     "text": [
      "{'name': 'Fahim', 1: 'Riaz', 2: [1, 2]}\n"
     ]
    }
   ],
   "source": [
    "# dictionary with mixed keys\n",
    "\n",
    "dict1 = { \"name\" : \"Fahim\", 1 : \"Riaz\", 2 : [1,2]}\n",
    "print(dict1)"
   ]
  },
  {
   "cell_type": "code",
   "execution_count": 14,
   "metadata": {},
   "outputs": [
    {
     "name": "stdout",
     "output_type": "stream",
     "text": [
      "{1: 'Fahim', 2: 'hello'}\n"
     ]
    }
   ],
   "source": [
    "# creating dictionary with dict method\n",
    "\n",
    "dict1 = dict({1:\"Fahim\", 2:\"hello\"})\n",
    "print(dict1)\n",
    "\n",
    "\n",
    "\n",
    "\n",
    "\n"
   ]
  },
  {
   "cell_type": "code",
   "execution_count": 16,
   "metadata": {},
   "outputs": [
    {
     "name": "stdout",
     "output_type": "stream",
     "text": [
      "{1: 'fahim', 2: 'md'}\n"
     ]
    }
   ],
   "source": [
    "# dictionary with dict method and with list tuple\n",
    "dict1 = dict([(1,\"fahim\"),(2,\"md\")])\n",
    "print(dict1)"
   ]
  },
  {
   "cell_type": "code",
   "execution_count": 20,
   "metadata": {},
   "outputs": [
    {
     "name": "stdout",
     "output_type": "stream",
     "text": [
      "Fahim\n",
      "MD\n",
      "Riaz\n",
      "None\n"
     ]
    }
   ],
   "source": [
    "#accessing dictionary \n",
    "# with key\n",
    "\n",
    "dict1 = {1 : \"Fahim\", \"name\" : \"MD\",3 : \"Riaz\"}\n",
    "\n",
    "#accessing dictionary\n",
    "print(dict1[1])\n",
    "print(dict1[\"name\"])\n",
    "# dictionary access with get() function\n",
    "print(dict1.get(3))\n",
    "print(dict1.get(\"Name\"))\n"
   ]
  },
  {
   "cell_type": "code",
   "execution_count": 21,
   "metadata": {},
   "outputs": [
    {
     "name": "stdout",
     "output_type": "stream",
     "text": [
      "This is a string\n",
      "This is a string\n",
      "This is a string\n"
     ]
    }
   ],
   "source": [
    "#string\n",
    "a = \"This is a string\"\n",
    "print(a)\n",
    "b= 'This is a string'\n",
    "print(b)\n",
    "c = \"\"\"This is a string\"\"\"\n",
    "print(c)"
   ]
  },
  {
   "cell_type": "code",
   "execution_count": 25,
   "metadata": {},
   "outputs": [
    {
     "name": "stdout",
     "output_type": "stream",
     "text": [
      "[1, 'a', 'String', 3]\n",
      "[1, 'a', 'String', 3, 'd']\n",
      "[1, 'a', 'String', 3]\n",
      "a\n"
     ]
    }
   ],
   "source": [
    "# declaring a list\n",
    "l = [1,\"a\",\"String\",1+2]\n",
    "print(l)\n",
    "\n",
    "# appending to the list\n",
    "l.append(\"d\")\n",
    "print(l)\n",
    "\n",
    "# using pop() method to remove last element from the list \n",
    "l.pop()\n",
    "print(l)\n",
    "\n",
    "# displaying second element of the  list\n",
    "print(l[1])\n",
    "\n"
   ]
  },
  {
   "cell_type": "code",
   "execution_count": 26,
   "metadata": {},
   "outputs": [
    {
     "name": "stdout",
     "output_type": "stream",
     "text": [
      "(1, 'a', 'string', 3)\n",
      "string\n"
     ]
    }
   ],
   "source": [
    "tup = ( 1,\"a\",\"string\",1 + 2)\n",
    "print(tup)\n",
    "\n",
    "#accesing tuple\n",
    "print(tup[2])\n"
   ]
  },
  {
   "cell_type": "code",
   "execution_count": 29,
   "metadata": {},
   "outputs": [
    {
     "name": "stdout",
     "output_type": "stream",
     "text": [
      "1 2 3 4 5 6 7 8 9 10 11 12 13 14 15 16 17 18 19 20 21 22 23 24 25 26 27 28 29 30 31 32 33 34 35 36 37 38 39 40 41 42 43 44 45 46 47 48 49 50 51 52 53 54 55 56 57 58 59 60 61 62 63 64 65 66 67 68 69 70 71 72 73 74 75 76 77 78 79 80 81 82 83 84 85 86 87 88 89 90 91 92 93 94 95 96 97 98 99 "
     ]
    }
   ],
   "source": [
    "#while\n",
    "i = 1\n",
    "while ( i < 100):\n",
    "    print(i,end=\" \")\n",
    "    i+=1"
   ]
  },
  {
   "cell_type": "code",
   "execution_count": 31,
   "metadata": {},
   "outputs": [
    {
     "name": "stdout",
     "output_type": "stream",
     "text": [
      "H\n",
      "e\n",
      "l\n",
      "l\n",
      "o\n",
      " \n",
      "w\n",
      "o\n",
      "r\n",
      "l\n",
      "d\n"
     ]
    }
   ],
   "source": [
    "s = \"Hello world\"\n",
    "for i in s : \n",
    "    print(i)"
   ]
  },
  {
   "cell_type": "code",
   "execution_count": 33,
   "metadata": {},
   "outputs": [
    {
     "name": "stdout",
     "output_type": "stream",
     "text": [
      "1\n",
      "2\n",
      "3\n",
      "4\n",
      "5\n",
      "6\n"
     ]
    }
   ],
   "source": [
    "l = [1,2,3  ,4,5,6]\n",
    "\n",
    "for i in l:\n",
    "    print(i)"
   ]
  },
  {
   "cell_type": "code",
   "execution_count": 34,
   "metadata": {},
   "outputs": [
    {
     "name": "stdout",
     "output_type": "stream",
     "text": [
      "0\n",
      "1\n",
      "2\n",
      "3\n",
      "4\n",
      "5\n",
      "6\n",
      "7\n",
      "8\n",
      "9\n"
     ]
    }
   ],
   "source": [
    "for i in range(0,10):\n",
    "    print(i)"
   ]
  }
 ],
 "metadata": {
  "kernelspec": {
   "display_name": "Python 3",
   "language": "python",
   "name": "python3"
  },
  "language_info": {
   "codemirror_mode": {
    "name": "ipython",
    "version": 3
   },
   "file_extension": ".py",
   "mimetype": "text/x-python",
   "name": "python",
   "nbconvert_exporter": "python",
   "pygments_lexer": "ipython3",
   "version": "3.11.4"
  },
  "orig_nbformat": 4
 },
 "nbformat": 4,
 "nbformat_minor": 2
}
