{
 "cells": [
  {
   "cell_type": "code",
   "execution_count": 1,
   "metadata": {},
   "outputs": [
    {
     "name": "stdout",
     "output_type": "stream",
     "text": [
      "211\n"
     ]
    }
   ],
   "source": [
    "#python input\n",
    "val = input(\"Enter your value : \")\n",
    "print(val)"
   ]
  },
  {
   "cell_type": "code",
   "execution_count": 3,
   "metadata": {},
   "outputs": [
    {
     "name": "stdout",
     "output_type": "stream",
     "text": [
      "10\n"
     ]
    }
   ],
   "source": [
    "#taking string input\n",
    "val = input(\"Enter your name: \")\n",
    "print(val)"
   ]
  },
  {
   "cell_type": "code",
   "execution_count": 4,
   "metadata": {},
   "outputs": [
    {
     "name": "stdout",
     "output_type": "stream",
     "text": [
      "2\n",
      "Fahim\n",
      "type of number :  <class 'str'>\n",
      "type of name :  <class 'str'>\n"
     ]
    }
   ],
   "source": [
    "#checking input type\n",
    "num = input(\"Enter number\")\n",
    "print(num)\n",
    "name1 = input(\"Enter name :\")\n",
    "print(name1)\n",
    "\n",
    "#print type of the input value\n",
    "print(\"type of number : \",type(num))\n",
    "print(\"type of name : \",type(name1))"
   ]
  },
  {
   "cell_type": "code",
   "execution_count": 7,
   "metadata": {},
   "outputs": [
    {
     "name": "stdout",
     "output_type": "stream",
     "text": [
      "20   <class 'int'>\n",
      "2.5   <class 'float'>\n"
     ]
    }
   ],
   "source": [
    "# integer and float type casting\n",
    "num = int(input(\"Enter a number : \"))\n",
    "print(num,\" \",type(num))\n",
    "floatNum = float(input(\"Enter a decimal number : \"))\n",
    "print(floatNum,\" \",type(floatNum))"
   ]
  },
  {
   "cell_type": "code",
   "execution_count": 1,
   "metadata": {},
   "outputs": [
    {
     "name": "stdout",
     "output_type": "stream",
     "text": [
      "11\n"
     ]
    }
   ],
   "source": [
    "#type casting for integer types\n",
    "num1 = int(input(\"Enter number 1 :\"))\n",
    "num2 = int(input(\"Enter number 2 :\"))\n",
    "\n",
    "# adding the number\n",
    "print(num1 + num2)"
   ]
  },
  {
   "cell_type": "code",
   "execution_count": 2,
   "metadata": {},
   "outputs": [
    {
     "name": "stdout",
     "output_type": "stream",
     "text": [
      "5.4\n"
     ]
    }
   ],
   "source": [
    "num1 = float(input(\"Enter float number 1 :\"))\n",
    "num2 = float(input(\"Enter float number 2 :\"))\n",
    "\n",
    "#sum of the floats\n",
    "print(num1 + num2)"
   ]
  },
  {
   "cell_type": "code",
   "execution_count": 3,
   "metadata": {},
   "outputs": [
    {
     "name": "stdout",
     "output_type": "stream",
     "text": [
      "1 2\n"
     ]
    }
   ],
   "source": [
    "# taking multiple inputs using splits\n",
    "x,y = input(\"Enter two values : \").split()\n",
    "print(x,y)"
   ]
  },
  {
   "cell_type": "code",
   "execution_count": 4,
   "metadata": {},
   "outputs": [
    {
     "name": "stdout",
     "output_type": "stream",
     "text": [
      "1 2 3\n"
     ]
    }
   ],
   "source": [
    "# taking three inputs \n",
    "x,y,z = input(\"Enter three separte by space\").split()\n",
    "print(x,y,z)"
   ]
  },
  {
   "cell_type": "code",
   "execution_count": 5,
   "metadata": {},
   "outputs": [
    {
     "name": "stdout",
     "output_type": "stream",
     "text": [
      "First value is 1, and second value is 2\n"
     ]
    }
   ],
   "source": [
    "#taking two inputs from single line a\n",
    "#print using single line\n",
    "a , b = input(\"Enter two values separated by space : \").split()\n",
    "print(\"First value is {}, and second value is {}\".format(a , b))\n"
   ]
  },
  {
   "cell_type": "code",
   "execution_count": 11,
   "metadata": {},
   "outputs": [
    {
     "name": "stdout",
     "output_type": "stream",
     "text": [
      "[1, 2, 3, 4, 5, 6]\n"
     ]
    }
   ],
   "source": [
    "# taking multiple inputs at a time \n",
    "# typecasting it to a list\n",
    "x = list(map(int,input(\"as many int values as you want separated space \").split()))\n",
    "print(x)\n"
   ]
  },
  {
   "cell_type": "code",
   "execution_count": 12,
   "metadata": {},
   "outputs": [
    {
     "name": "stdout",
     "output_type": "stream",
     "text": [
      "1 2\n"
     ]
    }
   ],
   "source": [
    "# taking multiple inputs with list comprehension\n",
    "x,y = [int(x) for x in input().split()]\n",
    "print(x,y)"
   ]
  },
  {
   "cell_type": "code",
   "execution_count": 13,
   "metadata": {},
   "outputs": [
    {
     "name": "stdout",
     "output_type": "stream",
     "text": [
      "1 2 3\n"
     ]
    }
   ],
   "source": [
    "# taking three number at a time\n",
    "x,y,z = [int(x) for x in input().split()]\n",
    "print(x,y,z)"
   ]
  },
  {
   "cell_type": "code",
   "execution_count": 16,
   "metadata": {},
   "outputs": [
    {
     "name": "stdout",
     "output_type": "stream",
     "text": [
      "First number 1, and second number 2\n"
     ]
    }
   ],
   "source": [
    "# taking two inputs using list comprehension\n",
    "# print with format\n",
    "x,y = [int(x) for x in input().split()]\n",
    "print(\"First number {}, and second number {}\".format(x,y))"
   ]
  },
  {
   "cell_type": "code",
   "execution_count": 17,
   "metadata": {},
   "outputs": [
    {
     "name": "stdout",
     "output_type": "stream",
     "text": [
      "[1, 2, 3, 4, 5, 6]\n"
     ]
    }
   ],
   "source": [
    "# taking multiple inouts using list comprehension \n",
    "# and make a list \n",
    "x = [int(x) for x in input().split()]\n",
    "print(x)"
   ]
  }
 ],
 "metadata": {
  "kernelspec": {
   "display_name": "Python 3",
   "language": "python",
   "name": "python3"
  },
  "language_info": {
   "codemirror_mode": {
    "name": "ipython",
    "version": 3
   },
   "file_extension": ".py",
   "mimetype": "text/x-python",
   "name": "python",
   "nbconvert_exporter": "python",
   "pygments_lexer": "ipython3",
   "version": "3.10.7"
  },
  "orig_nbformat": 4
 },
 "nbformat": 4,
 "nbformat_minor": 2
}
