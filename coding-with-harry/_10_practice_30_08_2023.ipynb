{
 "cells": [
  {
   "cell_type": "code",
   "execution_count": 1,
   "metadata": {},
   "outputs": [
    {
     "name": "stdout",
     "output_type": "stream",
     "text": [
      "211\n"
     ]
    }
   ],
   "source": [
    "#python input\n",
    "val = input(\"Enter your value : \")\n",
    "print(val)"
   ]
  },
  {
   "cell_type": "code",
   "execution_count": 3,
   "metadata": {},
   "outputs": [
    {
     "name": "stdout",
     "output_type": "stream",
     "text": [
      "10\n"
     ]
    }
   ],
   "source": [
    "#taking string input\n",
    "val = input(\"Enter your name: \")\n",
    "print(val)"
   ]
  },
  {
   "cell_type": "code",
   "execution_count": 4,
   "metadata": {},
   "outputs": [
    {
     "name": "stdout",
     "output_type": "stream",
     "text": [
      "2\n",
      "Fahim\n",
      "type of number :  <class 'str'>\n",
      "type of name :  <class 'str'>\n"
     ]
    }
   ],
   "source": [
    "#checking input type\n",
    "num = input(\"Enter number\")\n",
    "print(num)\n",
    "name1 = input(\"Enter name :\")\n",
    "print(name1)\n",
    "\n",
    "#print type of the input value\n",
    "print(\"type of number : \",type(num))\n",
    "print(\"type of name : \",type(name1))"
   ]
  },
  {
   "cell_type": "code",
   "execution_count": 7,
   "metadata": {},
   "outputs": [
    {
     "name": "stdout",
     "output_type": "stream",
     "text": [
      "20   <class 'int'>\n",
      "2.5   <class 'float'>\n"
     ]
    }
   ],
   "source": [
    "# integer and float type casting\n",
    "num = int(input(\"Enter a number : \"))\n",
    "print(num,\" \",type(num))\n",
    "floatNum = float(input(\"Enter a decimal number : \"))\n",
    "print(floatNum,\" \",type(floatNum))"
   ]
  }
 ],
 "metadata": {
  "kernelspec": {
   "display_name": "Python 3",
   "language": "python",
   "name": "python3"
  },
  "language_info": {
   "codemirror_mode": {
    "name": "ipython",
    "version": 3
   },
   "file_extension": ".py",
   "mimetype": "text/x-python",
   "name": "python",
   "nbconvert_exporter": "python",
   "pygments_lexer": "ipython3",
   "version": "3.11.4"
  },
  "orig_nbformat": 4
 },
 "nbformat": 4,
 "nbformat_minor": 2
}
