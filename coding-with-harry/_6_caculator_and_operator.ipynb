{
 "cells": [
  {
   "cell_type": "code",
   "execution_count": 1,
   "metadata": {},
   "outputs": [
    {
     "name": "stdout",
     "output_type": "stream",
     "text": [
      "21\n",
      "3\n",
      "108\n",
      "1.3333333333333333\n",
      "3\n",
      "1\n",
      "5159780352\n"
     ]
    }
   ],
   "source": [
    "import sys\n",
    "#  basic operator\n",
    "a , b = 12,9\n",
    "\n",
    "# addition\n",
    "print(a + b)\n",
    "\n",
    "# subtract\n",
    "print(a - b)\n",
    "\n",
    "# multiplication\n",
    "print(a * b)\n",
    "\n",
    "# division\n",
    "print(a / b)\n",
    "\n",
    "# modulo\n",
    "print(a % b)\n",
    "\n",
    "# floor division\n",
    "print(a // b)\n",
    "\n",
    "# exponential\n",
    "print(a**b)"
   ]
  },
  {
   "cell_type": "code",
   "execution_count": 5,
   "metadata": {},
   "outputs": [
    {
     "name": "stdout",
     "output_type": "stream",
     "text": [
      "Number 1 is :  10\n",
      "Number 2 is :)  5\n",
      "ans :  10 - 5 = 5\n"
     ]
    }
   ],
   "source": [
    "# basic calculator\n",
    "num1 = int(input(\"Enter number 1 : \"))\n",
    "print(\"Number 1 is : \", num1)\n",
    "num2 = int(input(\"Enter number 2 : \"))\n",
    "print(\"Number 2 is :) \", num2)\n",
    "\n",
    "# select operation\n",
    "operation = input(\"For addition : + \\n For subtract : - \\n For multiply : * \\n For divide : / \")\n",
    "\n",
    "# now apply condition\n",
    "if(operation == \"+\"):\n",
    "    ans = num1 + num2\n",
    "elif(operation == \"-\"):\n",
    "    ans = num1 - num2\n",
    "elif(operation == \"*\"):\n",
    "    ans = num1 * num2\n",
    "elif(operation == \"/\"):\n",
    "    ans = num1 / num2\n",
    "else:\n",
    "    print(\"Invalid operation\")\n",
    "    sys.exit()\n",
    "    \n",
    "print(\"ans : \",num1 , operation,num2,\"=\",ans)\n",
    "    \n",
    "\n"
   ]
  }
 ],
 "metadata": {
  "kernelspec": {
   "display_name": "Python 3",
   "language": "python",
   "name": "python3"
  },
  "language_info": {
   "codemirror_mode": {
    "name": "ipython",
    "version": 3
   },
   "file_extension": ".py",
   "mimetype": "text/x-python",
   "name": "python",
   "nbconvert_exporter": "python",
   "pygments_lexer": "ipython3",
   "version": "3.11.4"
  },
  "orig_nbformat": 4
 },
 "nbformat": 4,
 "nbformat_minor": 2
}
