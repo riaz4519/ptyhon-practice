{
 "cells": [
  {
   "cell_type": "code",
   "execution_count": 5,
   "metadata": {},
   "outputs": [
    {
     "name": "stdout",
     "output_type": "stream",
     "text": [
      "(8+2j) <class 'complex'>\n",
      "True <class 'bool'>\n",
      "Harry <class 'str'>\n",
      "None <class 'NoneType'>\n"
     ]
    }
   ],
   "source": [
    "a = complex(8,2)\n",
    "print(a,type(a))\n",
    "b = True\n",
    "print(b,type(b))\n",
    "c = \"Harry\"\n",
    "print(c,type(c))\n",
    "d = None\n",
    "print(d,type(d))\n",
    "\n",
    "\n"
   ]
  },
  {
   "cell_type": "code",
   "execution_count": 7,
   "metadata": {},
   "outputs": [
    {
     "name": "stdout",
     "output_type": "stream",
     "text": [
      "[1, 2, 3, 4, 5, 6, 7, [1, 2, 3, 4, 5, 6, 7], 4.5, 'data'] <class 'list'>\n"
     ]
    }
   ],
   "source": [
    "list1 = [1,2,3,4,5,6,7,[1,2,3,4,5,6,7],4.5,\"data\"]\n",
    "print(list1,type(list1))"
   ]
  },
  {
   "cell_type": "code",
   "execution_count": 8,
   "metadata": {},
   "outputs": [
    {
     "name": "stdout",
     "output_type": "stream",
     "text": [
      "(1, 2, 3, 4, 5, 6, 7, 8, 9, 10) <class 'tuple'>\n"
     ]
    }
   ],
   "source": [
    "tuple1 = (1,2,3,4,5,6,7,8,9,10)\n",
    "print(tuple1,type(tuple1))"
   ]
  },
  {
   "cell_type": "code",
   "execution_count": 10,
   "metadata": {},
   "outputs": [
    {
     "name": "stdout",
     "output_type": "stream",
     "text": [
      "{'name': 'fahim', 'age': 'data', 'gender': 'male'} <class 'dict'>\n"
     ]
    }
   ],
   "source": [
    "dict1 = {\"name\" : \"fahim\",\"age\" : \"data\",\"gender\" : \"male\"}\n",
    "print(dict1,type(dict1))"
   ]
  },
  {
   "cell_type": "code",
   "execution_count": 12,
   "metadata": {},
   "outputs": [
    {
     "name": "stdout",
     "output_type": "stream",
     "text": [
      "100 100 100\n",
      "1 2 Fahim\n"
     ]
    }
   ],
   "source": [
    "# multiple assignments\n",
    "a = b = c = 100\n",
    "print(a,b,c)\n",
    "d,e,f = 1,2,\"Fahim\"\n",
    "print(d,e,f)"
   ]
  }
 ],
 "metadata": {
  "kernelspec": {
   "display_name": "Python 3",
   "language": "python",
   "name": "python3"
  },
  "language_info": {
   "codemirror_mode": {
    "name": "ipython",
    "version": 3
   },
   "file_extension": ".py",
   "mimetype": "text/x-python",
   "name": "python",
   "nbconvert_exporter": "python",
   "pygments_lexer": "ipython3",
   "version": "3.11.4"
  },
  "orig_nbformat": 4
 },
 "nbformat": 4,
 "nbformat_minor": 2
}
