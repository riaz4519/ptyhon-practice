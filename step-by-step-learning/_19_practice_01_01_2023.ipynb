{
 "cells": [
  {
   "cell_type": "code",
   "execution_count": 1,
   "metadata": {},
   "outputs": [
    {
     "name": "stdout",
     "output_type": "stream",
     "text": [
      "{1: 'Fahim', 2: 'Md', 3: 'Riaz'}\n"
     ]
    }
   ],
   "source": [
    "#creating dictionary\n",
    "dict1 = {1  :\"Fahim\",2:\"Md\",3:\"Riaz\"}\n",
    "print(dict1)"
   ]
  },
  {
   "cell_type": "code",
   "execution_count": 2,
   "metadata": {},
   "outputs": [
    {
     "name": "stdout",
     "output_type": "stream",
     "text": [
      "{'Name': 'Fahim Md Riaz', 1: [1, 2, 3]}\n"
     ]
    }
   ],
   "source": [
    "#mixed keys\n",
    "dict1 = {'Name':\"Fahim Md Riaz\",1 : [1,2,3]}\n",
    "print(dict1)"
   ]
  },
  {
   "cell_type": "code",
   "execution_count": 4,
   "metadata": {},
   "outputs": [
    {
     "name": "stdout",
     "output_type": "stream",
     "text": [
      "{1: 'Fahim', 2: 'Md', 3: 'Riaz'}\n",
      "{1: 'Fahim', 2: 'Md', 3: 'Riaz'}\n"
     ]
    }
   ],
   "source": [
    "# creating with a  dict keyword \n",
    "dict1 = {}\n",
    "\n",
    "# creating with dict\n",
    "dict1 = dict({1 : \"Fahim\",2:\"Md\",3:\"Riaz\"})\n",
    "print(dict1)\n",
    "\n",
    "# with dict and tuple list\n",
    "dict1 = dict([(1,\"Fahim\"),(2,\"Md\"),(3,\"Riaz\")])\n",
    "print(dict1)"
   ]
  },
  {
   "cell_type": "code",
   "execution_count": 5,
   "metadata": {},
   "outputs": [
    {
     "name": "stdout",
     "output_type": "stream",
     "text": [
      "Md\n"
     ]
    }
   ],
   "source": [
    "# adding elements to dictionary\n",
    "dict1 = {}\n",
    "\n",
    "dict1[0] = \"Fahim\"\n",
    "dict1[1] = \"Md\"\n",
    "dict1[2] = \"Riaz\"\n",
    "\n",
    "#getting value with get\n",
    "print(dict1.get(1))\n",
    "\n",
    "\n"
   ]
  },
  {
   "cell_type": "code",
   "execution_count": 6,
   "metadata": {},
   "outputs": [
    {
     "name": "stdout",
     "output_type": "stream",
     "text": [
      "{1: {'name': 'Fahim Md Riaz', 'age': 0, 'occupation': 'engineer'}}\n"
     ]
    }
   ],
   "source": [
    "# nested dictionary \n",
    "dict1 = {}\n",
    "dict1[1] = { \"name\" : \"Fahim Md Riaz\",\"age\" : 00}\n",
    "dict1[1][\"occupation\"] = \"engineer\"\n",
    "print(dict1)\n"
   ]
  },
  {
   "cell_type": "code",
   "execution_count": 8,
   "metadata": {},
   "outputs": [
    {
     "name": "stdout",
     "output_type": "stream",
     "text": [
      "{1: 'fahim', 2: 'Md', 3: 'riaz'}\n",
      "{1: 'fahim', 3: 'riaz'}\n"
     ]
    }
   ],
   "source": [
    "# del elements using del keyword\n",
    "dict1 = {1 : \"fahim\",2 : \"Md\",3 : \"riaz\"}\n",
    "print(dict1)\n",
    "del(dict1[2])\n",
    "print(dict1)"
   ]
  },
  {
   "cell_type": "code",
   "execution_count": 24,
   "metadata": {},
   "outputs": [
    {
     "name": "stdout",
     "output_type": "stream",
     "text": [
      "{1: 'Python', 2: 'Java', 3: 'Ruby', 4: 'Scala'}\n",
      "{1: 'Python', 2: 'Java', 3: 'Ruby', 4: 'Scala'}\n",
      "2149008814464 2149008813824 2149008814464\n",
      "{}\n",
      "{}\n",
      "Python\n",
      "dict_items([(1, 'Python'), (2, 'Java'), (3, 'Ruby'), (4, 'Scala')])\n",
      "dict_keys([1, 2, 3, 4])\n",
      "{2: 'Java', 3: 'Ruby', 4: 'php'}\n",
      "{2: 'Java', 3: 'Ruby'}\n"
     ]
    }
   ],
   "source": [
    "dict1 = {1: \"Python\", 2: \"Java\", 3: \"Ruby\", 4: \"Scala\"}\n",
    "\n",
    "print(dict1)\n",
    "\n",
    "#copy method\n",
    "dict2 = dict1.copy()\n",
    "\n",
    "print(dict2)\n",
    "\n",
    "dict3 = dict1\n",
    "\n",
    "# checking id of the two var \n",
    "print(id(dict1),id(dict2),id(dict3))\n",
    "\n",
    "#clear method\n",
    "dict3.clear()\n",
    "print(dict3)\n",
    "print(dict1)\n",
    "\n",
    "# getting values with get()\n",
    "print(dict2.get(1))\n",
    "\n",
    "# items\n",
    "print(dict2.items())\n",
    "\n",
    "# keys\n",
    "print(dict2.keys())\n",
    "\n",
    "# dict pop method with argument\n",
    "dict2.pop(1)\n",
    "\n",
    "dict2.update({4  : \"php\"})\n",
    "print(dict2)\n",
    "dict2.popitem()\n",
    "print(dict2)\n",
    "\n",
    "\n",
    "\n"
   ]
  }
 ],
 "metadata": {
  "kernelspec": {
   "display_name": "Python 3",
   "language": "python",
   "name": "python3"
  },
  "language_info": {
   "codemirror_mode": {
    "name": "ipython",
    "version": 3
   },
   "file_extension": ".py",
   "mimetype": "text/x-python",
   "name": "python",
   "nbconvert_exporter": "python",
   "pygments_lexer": "ipython3",
   "version": "3.11.4"
  },
  "orig_nbformat": 4
 },
 "nbformat": 4,
 "nbformat_minor": 2
}
