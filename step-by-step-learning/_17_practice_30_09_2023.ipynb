{
 "cells": [
  {
   "cell_type": "code",
   "execution_count": 2,
   "metadata": {},
   "outputs": [
    {
     "name": "stdout",
     "output_type": "stream",
     "text": [
      "()\n",
      "('Fahim', 'Md.', 'Riaz')\n",
      "(1, 2, 3, 4, 5, 6, 7, 8, 9)\n"
     ]
    }
   ],
   "source": [
    "#tuple empty\n",
    "tuple1 = ()\n",
    "print(tuple1)\n",
    "\n",
    "# tuple with strings\n",
    "tuple1 = (\"Fahim\",\"Md.\",\"Riaz\")\n",
    "print(tuple1)\n",
    "\n",
    "#tuple from a list\n",
    "list1 = [1,2,3,4,5,6,7,8,9]\n",
    "tuple1 = tuple(list1)\n",
    "print(tuple1)\n"
   ]
  },
  {
   "cell_type": "code",
   "execution_count": 3,
   "metadata": {},
   "outputs": [
    {
     "name": "stdout",
     "output_type": "stream",
     "text": [
      "(5, 'Fahim', 6, 'Md', 7, 'riaz')\n"
     ]
    }
   ],
   "source": [
    "# tuple with mixed data types\n",
    "tuple1 = (5,\"Fahim\",6,\"Md\",7,\"riaz\")\n",
    "print(tuple1)"
   ]
  },
  {
   "cell_type": "code",
   "execution_count": null,
   "metadata": {},
   "outputs": [],
   "source": [
    "#creating nested tuple\n",
    "tuple1 = (1,2,3,4,5,6,7,8)\n",
    "tuple2 = (\"Fahim\",\"Md\",\"Riaz\")\n",
    "tupleFinal = "
   ]
  }
 ],
 "metadata": {
  "kernelspec": {
   "display_name": "Python 3",
   "language": "python",
   "name": "python3"
  },
  "language_info": {
   "codemirror_mode": {
    "name": "ipython",
    "version": 3
   },
   "file_extension": ".py",
   "mimetype": "text/x-python",
   "name": "python",
   "nbconvert_exporter": "python",
   "pygments_lexer": "ipython3",
   "version": "3.10.7"
  },
  "orig_nbformat": 4
 },
 "nbformat": 4,
 "nbformat_minor": 2
}
