{
 "cells": [
  {
   "cell_type": "code",
   "execution_count": 1,
   "metadata": {},
   "outputs": [
    {
     "name": "stdout",
     "output_type": "stream",
     "text": [
      "<class 'set'>\n"
     ]
    }
   ],
   "source": [
    "set1 = {\"Geeks\",\"For\",\"Geeks\"}\n",
    "print(type(set1))"
   ]
  },
  {
   "cell_type": "code",
   "execution_count": 5,
   "metadata": {},
   "outputs": [
    {
     "name": "stdout",
     "output_type": "stream",
     "text": [
      "{'a', 'b', 'c'}\n",
      "{'a', 'b', 'd', 'c'}\n"
     ]
    }
   ],
   "source": [
    "#type casting with python set method\n",
    "set1 = set([\"a\",\"b\",\"c\"])\n",
    "print(set1)\n",
    "\n",
    "#adding elements to set\n",
    "set1.add(\"d\")\n",
    "print(set1)"
   ]
  },
  {
   "cell_type": "code",
   "execution_count": 6,
   "metadata": {},
   "outputs": [
    {
     "name": "stdout",
     "output_type": "stream",
     "text": [
      "{'Geeks', 'For'}\n"
     ]
    }
   ],
   "source": [
    "# check unique and immutable with set\n",
    "# set can not have duplicate values\n",
    "set1 = {\"Geeks\",\"For\",\"Geeks\"}\n",
    "print(set1)"
   ]
  },
  {
   "cell_type": "code",
   "execution_count": 8,
   "metadata": {},
   "outputs": [
    {
     "name": "stdout",
     "output_type": "stream",
     "text": [
      "{'Mokim', 'FAhim', 'Naiem'}\n",
      "{'Mokim', 'FAhim', 'Naiem', 'Babul'}\n"
     ]
    }
   ],
   "source": [
    "# adding sets element\n",
    "people = {\"FAhim\",\"Naiem\",\"Mokim\"}\n",
    "print(people)\n",
    "\n",
    "# adding people \n",
    "people.add(\"Babul\")\n",
    "print(people)\n"
   ]
  },
  {
   "cell_type": "code",
   "execution_count": 12,
   "metadata": {},
   "outputs": [
    {
     "name": "stdout",
     "output_type": "stream",
     "text": [
      "{'Arjun', 'Idrish', 'Karan', 'Jay', 'Archil'}\n",
      "{'Idrish', 'Deepanshu', 'Raju', 'Jay', 'Archil'}\n"
     ]
    }
   ],
   "source": [
    "# union operations on python sets\n",
    "people = {\"Jay\", \"Idrish\", \"Archil\"}\n",
    "vampires = {\"Karan\", \"Arjun\"}\n",
    "dracula = {\"Deepanshu\", \"Raju\"}\n",
    "\n",
    "population = people.union(vampires)\n",
    "print(population)\n",
    "\n",
    "#union using | operator\n",
    "population = people | dracula\n",
    "print(population)\n",
    "\n",
    "\n",
    "\n"
   ]
  },
  {
   "cell_type": "code",
   "execution_count": 15,
   "metadata": {},
   "outputs": [
    {
     "name": "stdout",
     "output_type": "stream",
     "text": [
      "{0, 1, 2, 3, 4}\n",
      "{3, 4, 5, 6, 7, 8}\n",
      "{3, 4}\n",
      "{3, 4}\n"
     ]
    }
   ],
   "source": [
    "#intersection with intersection and &\n",
    "set1 = set()\n",
    "set2 = set()\n",
    "\n",
    "for i in range(5):\n",
    "    set1.add(i)\n",
    "    \n",
    "for i in range(3,9):\n",
    "    set2.add(i)\n",
    "    \n",
    "print(set1)\n",
    "print(set2)\n",
    "\n",
    "set3 = set1.intersection(set2)\n",
    "print(set3)\n",
    "\n",
    "# with &\n",
    "set3 = set1 & set2\n",
    "print(set3)\n",
    "\n",
    "\n",
    "\n"
   ]
  },
  {
   "cell_type": "code",
   "execution_count": 19,
   "metadata": {},
   "outputs": [
    {
     "name": "stdout",
     "output_type": "stream",
     "text": [
      "{0, 1, 2}\n",
      "{8, 5, 6, 7}\n"
     ]
    }
   ],
   "source": [
    "#finding differences \n",
    "set1 = set()\n",
    "set2 = set()\n",
    "\n",
    "for i in range(5):\n",
    "    set1.add(i)\n",
    "\n",
    "for i in range(3,9):\n",
    "    set2.add(i)\n",
    "    \n",
    "# with difference()\n",
    "\n",
    "set3 = set1.difference(set2)\n",
    "print(set3)\n",
    "\n",
    "set3 = set2-set1\n",
    "print(set3)\n",
    "\n"
   ]
  },
  {
   "cell_type": "code",
   "execution_count": 22,
   "metadata": {},
   "outputs": [
    {
     "name": "stdout",
     "output_type": "stream",
     "text": [
      "{1, 2, 3, 4, 5, 6}\n",
      "{1, 2, 3, 4, 5, 6, 7, 8, 9}\n"
     ]
    }
   ],
   "source": [
    "# adding multiple elemts to set\n",
    "set1 = {1,2,3,4,5,6}\n",
    "print(set1)\n",
    "#update\n",
    "upEl = [4,5,6,7,8,9]\n",
    "\n",
    "set1.update(upEl)\n",
    "print(set1)"
   ]
  },
  {
   "cell_type": "code",
   "execution_count": 23,
   "metadata": {},
   "outputs": [
    {
     "name": "stdout",
     "output_type": "stream",
     "text": [
      "{1, 2, 3, 4, 5, 6}\n",
      "{1, 2, 3, 4, 5, 6, 7, 8}\n"
     ]
    }
   ],
   "source": [
    "#uisng pip operator\n",
    "set1 = {1,2,3,4,5,6}\n",
    "print(set1)\n",
    "#update\n",
    "upEl = {4,5,6,7,8,9}\n",
    "\n",
    "set3 = set1 | set2\n",
    "print(set3)\n",
    "\n"
   ]
  }
 ],
 "metadata": {
  "kernelspec": {
   "display_name": "Python 3",
   "language": "python",
   "name": "python3"
  },
  "language_info": {
   "codemirror_mode": {
    "name": "ipython",
    "version": 3
   },
   "file_extension": ".py",
   "mimetype": "text/x-python",
   "name": "python",
   "nbconvert_exporter": "python",
   "pygments_lexer": "ipython3",
   "version": "3.11.4"
  },
  "orig_nbformat": 4
 },
 "nbformat": 4,
 "nbformat_minor": 2
}
