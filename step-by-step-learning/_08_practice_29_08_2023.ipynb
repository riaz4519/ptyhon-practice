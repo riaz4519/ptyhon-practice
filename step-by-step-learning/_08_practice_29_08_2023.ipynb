{
 "cells": [
  {
   "cell_type": "code",
   "execution_count": 1,
   "metadata": {},
   "outputs": [
    {
     "name": "stdout",
     "output_type": "stream",
     "text": [
      "['False', 'None', 'True', 'and', 'as', 'assert', 'async', 'await', 'break', 'class', 'continue', 'def', 'del', 'elif', 'else', 'except', 'finally', 'for', 'from', 'global', 'if', 'import', 'in', 'is', 'lambda', 'nonlocal', 'not', 'or', 'pass', 'raise', 'return', 'try', 'while', 'with', 'yield']\n"
     ]
    }
   ],
   "source": [
    "#get all hte keywords\n",
    "import keyword\n",
    "print(keyword.kwlist)"
   ]
  },
  {
   "cell_type": "code",
   "execution_count": 11,
   "metadata": {},
   "outputs": [
    {
     "name": "stdout",
     "output_type": "stream",
     "text": [
      "True\n",
      "False\n",
      "False\n",
      "s is part fo geeksforgeeks\n",
      "g e e k f o r g e e k s \n"
     ]
    }
   ],
   "source": [
    "#checking kewwords\n",
    "\n",
    "#logical operators\n",
    "print(True or True)\n",
    "\n",
    "print(False and True)\n",
    "\n",
    "print(not True)\n",
    "\n",
    "#using in to check\n",
    "if 's' in \"geeksforgeeks\":\n",
    "    print(\"s is part fo geeksforgeeks\")\n",
    "else:\n",
    "    print(\"s is part fo geeksforgeeks\")\n",
    "    \n",
    "#using in to loop through\n",
    "for i in \"geekforgeeks\":\n",
    "    print(i,end=\" \")\n",
    "\n",
    "print()\n",
    "    \n",
    "# print(' ' is ' ')"
   ]
  },
  {
   "cell_type": "code",
   "execution_count": 13,
   "metadata": {},
   "outputs": [
    {
     "name": "stdout",
     "output_type": "stream",
     "text": [
      "0 1 2 3 4 5 6 \n"
     ]
    }
   ],
   "source": [
    "#using for loop\n",
    "for i in range(10):\n",
    "    print(i,end=\" \")\n",
    "    \n",
    "    # break after 6\n",
    "    if i == 6 : break\n",
    "\n",
    "print()"
   ]
  },
  {
   "cell_type": "code",
   "execution_count": 14,
   "metadata": {},
   "outputs": [
    {
     "name": "stdout",
     "output_type": "stream",
     "text": [
      "0 1 2 3 4 5 7 8 9 "
     ]
    }
   ],
   "source": [
    "# while looping\n",
    "i = 0\n",
    "\n",
    "while i < 10 :\n",
    "    \n",
    "    # if i is 6 then continue without printing\n",
    "    if i == 6 : \n",
    "        i += 1\n",
    "        continue\n",
    "    else:\n",
    "        print(i,end=\" \")\n",
    "        \n",
    "    i += 1\n",
    "    "
   ]
  },
  {
   "cell_type": "code",
   "execution_count": null,
   "metadata": {},
   "outputs": [],
   "source": [
    "# conditions if elif else\n",
    "i = 20\n",
    "if (i == 10):\n",
    "    print(\"i is 10\")\n",
    "elif (i == 20):\n",
    "    print(\"i is 20\")\n",
    "else:\n",
    "    print(\"i is not present\")"
   ]
  },
  {
   "cell_type": "code",
   "execution_count": 15,
   "metadata": {},
   "outputs": [
    {
     "name": "stdout",
     "output_type": "stream",
     "text": [
      "user defined functions\n"
     ]
    }
   ],
   "source": [
    "def fun():\n",
    "    print(\"user defined functions\")\n",
    "\n",
    "fun()"
   ]
  },
  {
   "cell_type": "code",
   "execution_count": 17,
   "metadata": {},
   "outputs": [
    {
     "name": "stdout",
     "output_type": "stream",
     "text": [
      "[0, 1, 3, 6, 10, 15, 21, 28, 36, 45]\n"
     ]
    }
   ],
   "source": [
    "#yield \n",
    "def fun():\n",
    "    S = 0\n",
    "    \n",
    "    for i in range(10):\n",
    "        S += i\n",
    "        yield S\n",
    "        \n",
    "print(list(fun()))\n",
    "    "
   ]
  },
  {
   "cell_type": "code",
   "execution_count": 19,
   "metadata": {},
   "outputs": [
    {
     "name": "stdout",
     "output_type": "stream",
     "text": [
      "mamal\n",
      "I am a : mamal\n",
      "I am a : dog\n"
     ]
    }
   ],
   "source": [
    "#class \n",
    "class Dog :\n",
    "    attr1 = \"mamal\"\n",
    "    attr2 = \"dog\"\n",
    "    \n",
    "    def fun(self):\n",
    "        print(\"I am a :\",self.attr1)\n",
    "        print(\"I am a :\",self.attr2)\n",
    "        \n",
    "Rodger = Dog()\n",
    "\n",
    "print(Rodger.attr1)\n",
    "Rodger.fun()"
   ]
  },
  {
   "cell_type": "code",
   "execution_count": 20,
   "metadata": {},
   "outputs": [],
   "source": [
    "#with \n",
    "\n",
    "with open(\"file.txt\",\"w\") as file:\n",
    "    file.write(\"hello world\")"
   ]
  },
  {
   "cell_type": "code",
   "execution_count": 21,
   "metadata": {},
   "outputs": [
    {
     "name": "stdout",
     "output_type": "stream",
     "text": [
      "120\n"
     ]
    }
   ],
   "source": [
    "#as\n",
    "import math as gfg\n",
    "print(gfg.factorial(5))"
   ]
  },
  {
   "cell_type": "code",
   "execution_count": 22,
   "metadata": {},
   "outputs": [
    {
     "name": "stdout",
     "output_type": "stream",
     "text": [
      "49\n"
     ]
    }
   ],
   "source": [
    "#lamda\n",
    "g = lambda x : x*x\n",
    "\n",
    "print(g(7))"
   ]
  },
  {
   "cell_type": "code",
   "execution_count": 23,
   "metadata": {},
   "outputs": [
    {
     "name": "stdout",
     "output_type": "stream",
     "text": [
      "120\n"
     ]
    }
   ],
   "source": [
    "#from \n",
    "from math import factorial\n",
    "print(factorial(5))"
   ]
  },
  {
   "cell_type": "code",
   "execution_count": 24,
   "metadata": {},
   "outputs": [
    {
     "name": "stdout",
     "output_type": "stream",
     "text": [
      "Can't divide by zero\n",
      "and this is will print always\n"
     ]
    }
   ],
   "source": [
    "#try except finally\n",
    "a = 4\n",
    "b = 0\n",
    "\n",
    "try:\n",
    "    \n",
    "    k = a // b\n",
    "    print(k)\n",
    "except ZeroDivisionError: \n",
    "    print(\"Can't divide by zero\")\n",
    "    \n",
    "finally:\n",
    "    print(\"and this is will print always\")\n",
    "    \n",
    "    \n"
   ]
  }
 ],
 "metadata": {
  "kernelspec": {
   "display_name": "Python 3",
   "language": "python",
   "name": "python3"
  },
  "language_info": {
   "codemirror_mode": {
    "name": "ipython",
    "version": 3
   },
   "file_extension": ".py",
   "mimetype": "text/x-python",
   "name": "python",
   "nbconvert_exporter": "python",
   "pygments_lexer": "ipython3",
   "version": "3.10.7"
  },
  "orig_nbformat": 4
 },
 "nbformat": 4,
 "nbformat_minor": 2
}
