{
 "cells": [
  {
   "cell_type": "code",
   "execution_count": 1,
   "metadata": {},
   "outputs": [
    {
     "name": "stdout",
     "output_type": "stream",
     "text": [
      "13\n",
      "5\n",
      "36\n",
      "1\n",
      "6561\n"
     ]
    }
   ],
   "source": [
    "\n",
    "# arithmetic operations\n",
    "a = 9\n",
    "b = 4\n",
    "\n",
    "# addition of numbers\n",
    "add = a + b\n",
    "\n",
    "# subtraction of numbers\n",
    "sub = a - b\n",
    "\n",
    "# multiplication of numbers\n",
    "mul = a * b\n",
    "\n",
    "# modulo of numbers\n",
    "mod = a % b\n",
    "\n",
    "# power\n",
    "p = a ** b\n",
    "\n",
    "print(add, sub, mul, mod,p,sep=\"\\n\")\n"
   ]
  },
  {
   "cell_type": "code",
   "execution_count": 2,
   "metadata": {},
   "outputs": [
    {
     "name": "stdout",
     "output_type": "stream",
     "text": [
      "False\n",
      "True\n",
      "False\n",
      "True\n",
      "False\n",
      "True\n"
     ]
    }
   ],
   "source": [
    "# comparision operators\n",
    "\n",
    "a = 13\n",
    "b = 33\n",
    "\n",
    "# test > , < , == , != , >= ,<=\n",
    "\n",
    "print(a > b)\n",
    "\n",
    "print( a < b)\n",
    "\n",
    "print( a == b)\n",
    "\n",
    "print( a != b)\n",
    "\n",
    "print( a >= b)\n",
    "\n",
    "print( a <= b)\n",
    "\n"
   ]
  },
  {
   "cell_type": "code",
   "execution_count": 4,
   "metadata": {},
   "outputs": [
    {
     "name": "stdout",
     "output_type": "stream",
     "text": [
      "False\n",
      "True\n",
      "False\n"
     ]
    }
   ],
   "source": [
    "# logical operators\n",
    "# and , or , not\n",
    "\n",
    "a = True\n",
    "b = False\n",
    "\n",
    "print(a and b)\n",
    "\n",
    "print(a or b)\n",
    "\n",
    "print(not a )\n",
    "\n"
   ]
  },
  {
   "cell_type": "code",
   "execution_count": 6,
   "metadata": {},
   "outputs": [
    {
     "name": "stdout",
     "output_type": "stream",
     "text": [
      "0\n",
      "14\n",
      "-11\n",
      "14\n",
      "2\n",
      "40\n"
     ]
    }
   ],
   "source": [
    "# bitwise operators\n",
    "a  = 10\n",
    "b = 4\n",
    "\n",
    "# perform operations &,|,~,^,>>,<<\n",
    "print(a & b)\n",
    "print(a | b)\n",
    "print(~a)\n",
    "print(a ^ b)\n",
    "print(a >> 2)\n",
    "print(a << 2)\n"
   ]
  },
  {
   "cell_type": "code",
   "execution_count": 8,
   "metadata": {},
   "outputs": [
    {
     "name": "stdout",
     "output_type": "stream",
     "text": [
      "10 10\n",
      "10\n",
      "20\n",
      "10\n",
      "102400\n"
     ]
    }
   ],
   "source": [
    "# assignment operators\n",
    "a = 10 \n",
    "\n",
    "\n",
    "print(a,b)\n",
    "\n",
    "#perform = , +=,-=,*=,<<=\n",
    "b = a\n",
    "print(b)\n",
    "b += a\n",
    "print(b)\n",
    "b -= a\n",
    "print(b)\n",
    "b *= a\n",
    "b <<= a\n",
    "print(b)\n"
   ]
  },
  {
   "cell_type": "code",
   "execution_count": 12,
   "metadata": {},
   "outputs": [
    {
     "name": "stdout",
     "output_type": "stream",
     "text": [
      "True\n",
      "140704912368712 140704912368712\n",
      "True\n",
      "False\n"
     ]
    }
   ],
   "source": [
    "# identity operator\n",
    "a = 10\n",
    "b = 20\n",
    "c = 10\n",
    "d = a\n",
    "\n",
    "# perform is , is not\n",
    "\n",
    "print(a is c)\n",
    "print(id(a),id(c))\n",
    "print(a  is not b)\n",
    "print(a is b)\n"
   ]
  },
  {
   "cell_type": "code",
   "execution_count": 14,
   "metadata": {},
   "outputs": [
    {
     "name": "stdout",
     "output_type": "stream",
     "text": [
      "x is not present in lst\n",
      "y is present in lst\n"
     ]
    }
   ],
   "source": [
    "#membership operator\n",
    "x = 24\n",
    "y = 20\n",
    "\n",
    "lst = [10,20,30,40,50,60,70,80,90]\n",
    "\n",
    "# perform in and not in\n",
    "if( x not in lst ):\n",
    "    print(\"x is not present in lst\")\n",
    "else :\n",
    "    print(\"x is present in lst\")\n",
    "    \n",
    "if(y in lst ):\n",
    "    print(\"y is present in lst\")\n",
    "else :\n",
    "    print(\"y is not present in lst\")\n"
   ]
  },
  {
   "cell_type": "code",
   "execution_count": 15,
   "metadata": {},
   "outputs": [
    {
     "name": "stdout",
     "output_type": "stream",
     "text": [
      "10\n"
     ]
    }
   ],
   "source": [
    "# ternary operator\n",
    "a , b = 10 , 20\n",
    "min = a if a < b else b\n",
    "print(min)"
   ]
  },
  {
   "cell_type": "code",
   "execution_count": 16,
   "metadata": {},
   "outputs": [
    {
     "name": "stdout",
     "output_type": "stream",
     "text": [
      "a is greater than b\n"
     ]
    }
   ],
   "source": [
    "# ternary print\n",
    "a , b = 10 , 20\n",
    "\n",
    "print(\"a is equal to b\" if a == b else \"a is greater than b\" if a > b else \"a is greater than b\")"
   ]
  },
  {
   "cell_type": "code",
   "execution_count": 17,
   "metadata": {},
   "outputs": [
    {
     "name": "stdout",
     "output_type": "stream",
     "text": [
      "10\n"
     ]
    }
   ],
   "source": [
    "# ternary operator using tuple \n",
    "a , b = 10 ,20\n",
    "print((b,a)[a < b])"
   ]
  },
  {
   "cell_type": "code",
   "execution_count": 18,
   "metadata": {},
   "outputs": [
    {
     "name": "stdout",
     "output_type": "stream",
     "text": [
      "10\n"
     ]
    }
   ],
   "source": [
    "# ternary using dictionary\n",
    "a , b = 10 , 20\n",
    "print({True : a , False : b} [a < b])"
   ]
  },
  {
   "cell_type": "code",
   "execution_count": 25,
   "metadata": {},
   "outputs": [
    {
     "name": "stdout",
     "output_type": "stream",
     "text": [
      "3\n"
     ]
    }
   ],
   "source": [
    "# operator overloading\n",
    "class A:\n",
    "    def __init__(self,a):\n",
    "        self.a = a\n",
    "    \n",
    "   # adding two objects\n",
    "    def __add__(self,other):\n",
    "        return  self.a + other.a\n",
    "    \n",
    "ob1 = A(1)\n",
    "ob2 = A(2)\n",
    "\n",
    "ob3 = A(\"Geek\")\n",
    "ob4 = A(\"For\")\n",
    "\n",
    "print(ob1+ob2)\n",
    "    "
   ]
  }
 ],
 "metadata": {
  "kernelspec": {
   "display_name": "Python 3",
   "language": "python",
   "name": "python3"
  },
  "language_info": {
   "codemirror_mode": {
    "name": "ipython",
    "version": 3
   },
   "file_extension": ".py",
   "mimetype": "text/x-python",
   "name": "python",
   "nbconvert_exporter": "python",
   "pygments_lexer": "ipython3",
   "version": "3.11.4"
  },
  "orig_nbformat": 4
 },
 "nbformat": 4,
 "nbformat_minor": 2
}
